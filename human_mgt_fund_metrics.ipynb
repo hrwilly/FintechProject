{
 "cells": [
  {
   "cell_type": "code",
   "execution_count": 13,
   "id": "ebdc86e2",
   "metadata": {},
   "outputs": [
    {
     "name": "stdout",
     "output_type": "stream",
     "text": [
      "Fetching historical data for all tickers...\n",
      "Fetching data for ITOT...\n",
      "[*********************100%%**********************]  1 of 1 completed\n",
      "Fetching data for IYY...\n",
      "[*********************100%%**********************]  1 of 1 completed\n",
      "Fetching data for SCHB...\n"
     ]
    },
    {
     "name": "stderr",
     "output_type": "stream",
     "text": [
      "/var/folders/0p/fxg5ckl91l97lc30f5yd7h840000gn/T/ipykernel_38522/3667413636.py:34: SettingWithCopyWarning: \n",
      "A value is trying to be set on a copy of a slice from a DataFrame.\n",
      "Try using .loc[row_indexer,col_indexer] = value instead\n",
      "\n",
      "See the caveats in the documentation: https://pandas.pydata.org/pandas-docs/stable/user_guide/indexing.html#returning-a-view-versus-a-copy\n",
      "  data['MarketCap'] = data['Close'] * data['Volume']  # Calculate Market Cap\n",
      "/var/folders/0p/fxg5ckl91l97lc30f5yd7h840000gn/T/ipykernel_38522/3667413636.py:34: SettingWithCopyWarning: \n",
      "A value is trying to be set on a copy of a slice from a DataFrame.\n",
      "Try using .loc[row_indexer,col_indexer] = value instead\n",
      "\n",
      "See the caveats in the documentation: https://pandas.pydata.org/pandas-docs/stable/user_guide/indexing.html#returning-a-view-versus-a-copy\n",
      "  data['MarketCap'] = data['Close'] * data['Volume']  # Calculate Market Cap\n"
     ]
    },
    {
     "name": "stdout",
     "output_type": "stream",
     "text": [
      "[*********************100%%**********************]  1 of 1 completed\n",
      "Fetching data for SPTM...\n"
     ]
    },
    {
     "name": "stderr",
     "output_type": "stream",
     "text": [
      "/var/folders/0p/fxg5ckl91l97lc30f5yd7h840000gn/T/ipykernel_38522/3667413636.py:34: SettingWithCopyWarning: \n",
      "A value is trying to be set on a copy of a slice from a DataFrame.\n",
      "Try using .loc[row_indexer,col_indexer] = value instead\n",
      "\n",
      "See the caveats in the documentation: https://pandas.pydata.org/pandas-docs/stable/user_guide/indexing.html#returning-a-view-versus-a-copy\n",
      "  data['MarketCap'] = data['Close'] * data['Volume']  # Calculate Market Cap\n"
     ]
    },
    {
     "name": "stdout",
     "output_type": "stream",
     "text": [
      "[*********************100%%**********************]  1 of 1 completed\n",
      "Fetching data for OEF...\n",
      "[*********************100%%**********************]  1 of 1 completed\n",
      "Fetching data for XLG...\n"
     ]
    },
    {
     "name": "stderr",
     "output_type": "stream",
     "text": [
      "/var/folders/0p/fxg5ckl91l97lc30f5yd7h840000gn/T/ipykernel_38522/3667413636.py:34: SettingWithCopyWarning: \n",
      "A value is trying to be set on a copy of a slice from a DataFrame.\n",
      "Try using .loc[row_indexer,col_indexer] = value instead\n",
      "\n",
      "See the caveats in the documentation: https://pandas.pydata.org/pandas-docs/stable/user_guide/indexing.html#returning-a-view-versus-a-copy\n",
      "  data['MarketCap'] = data['Close'] * data['Volume']  # Calculate Market Cap\n",
      "/var/folders/0p/fxg5ckl91l97lc30f5yd7h840000gn/T/ipykernel_38522/3667413636.py:34: SettingWithCopyWarning: \n",
      "A value is trying to be set on a copy of a slice from a DataFrame.\n",
      "Try using .loc[row_indexer,col_indexer] = value instead\n",
      "\n",
      "See the caveats in the documentation: https://pandas.pydata.org/pandas-docs/stable/user_guide/indexing.html#returning-a-view-versus-a-copy\n",
      "  data['MarketCap'] = data['Close'] * data['Volume']  # Calculate Market Cap\n"
     ]
    },
    {
     "name": "stdout",
     "output_type": "stream",
     "text": [
      "[*********************100%%**********************]  1 of 1 completed\n",
      "Fetching data for IVV...\n",
      "[*********************100%%**********************]  1 of 1 completed\n",
      "Fetching data for SPY...\n"
     ]
    },
    {
     "name": "stderr",
     "output_type": "stream",
     "text": [
      "/var/folders/0p/fxg5ckl91l97lc30f5yd7h840000gn/T/ipykernel_38522/3667413636.py:34: SettingWithCopyWarning: \n",
      "A value is trying to be set on a copy of a slice from a DataFrame.\n",
      "Try using .loc[row_indexer,col_indexer] = value instead\n",
      "\n",
      "See the caveats in the documentation: https://pandas.pydata.org/pandas-docs/stable/user_guide/indexing.html#returning-a-view-versus-a-copy\n",
      "  data['MarketCap'] = data['Close'] * data['Volume']  # Calculate Market Cap\n",
      "/var/folders/0p/fxg5ckl91l97lc30f5yd7h840000gn/T/ipykernel_38522/3667413636.py:34: SettingWithCopyWarning: \n",
      "A value is trying to be set on a copy of a slice from a DataFrame.\n",
      "Try using .loc[row_indexer,col_indexer] = value instead\n",
      "\n",
      "See the caveats in the documentation: https://pandas.pydata.org/pandas-docs/stable/user_guide/indexing.html#returning-a-view-versus-a-copy\n",
      "  data['MarketCap'] = data['Close'] * data['Volume']  # Calculate Market Cap\n"
     ]
    },
    {
     "name": "stdout",
     "output_type": "stream",
     "text": [
      "[*********************100%%**********************]  1 of 1 completed\n",
      "Fetching data for SPLG...\n"
     ]
    },
    {
     "name": "stderr",
     "output_type": "stream",
     "text": [
      "/var/folders/0p/fxg5ckl91l97lc30f5yd7h840000gn/T/ipykernel_38522/3667413636.py:34: SettingWithCopyWarning: \n",
      "A value is trying to be set on a copy of a slice from a DataFrame.\n",
      "Try using .loc[row_indexer,col_indexer] = value instead\n",
      "\n",
      "See the caveats in the documentation: https://pandas.pydata.org/pandas-docs/stable/user_guide/indexing.html#returning-a-view-versus-a-copy\n",
      "  data['MarketCap'] = data['Close'] * data['Volume']  # Calculate Market Cap\n"
     ]
    },
    {
     "name": "stdout",
     "output_type": "stream",
     "text": [
      "[*********************100%%**********************]  1 of 1 completed\n",
      "Fetching data for VOO...\n",
      "[*********************100%%**********************]  1 of 1 completed\n",
      "Fetching data for DIA...\n"
     ]
    },
    {
     "name": "stderr",
     "output_type": "stream",
     "text": [
      "/var/folders/0p/fxg5ckl91l97lc30f5yd7h840000gn/T/ipykernel_38522/3667413636.py:34: SettingWithCopyWarning: \n",
      "A value is trying to be set on a copy of a slice from a DataFrame.\n",
      "Try using .loc[row_indexer,col_indexer] = value instead\n",
      "\n",
      "See the caveats in the documentation: https://pandas.pydata.org/pandas-docs/stable/user_guide/indexing.html#returning-a-view-versus-a-copy\n",
      "  data['MarketCap'] = data['Close'] * data['Volume']  # Calculate Market Cap\n",
      "/var/folders/0p/fxg5ckl91l97lc30f5yd7h840000gn/T/ipykernel_38522/3667413636.py:34: SettingWithCopyWarning: \n",
      "A value is trying to be set on a copy of a slice from a DataFrame.\n",
      "Try using .loc[row_indexer,col_indexer] = value instead\n",
      "\n",
      "See the caveats in the documentation: https://pandas.pydata.org/pandas-docs/stable/user_guide/indexing.html#returning-a-view-versus-a-copy\n",
      "  data['MarketCap'] = data['Close'] * data['Volume']  # Calculate Market Cap\n"
     ]
    },
    {
     "name": "stdout",
     "output_type": "stream",
     "text": [
      "[*********************100%%**********************]  1 of 1 completed\n",
      "Fetching data for SCHX...\n"
     ]
    },
    {
     "name": "stderr",
     "output_type": "stream",
     "text": [
      "/var/folders/0p/fxg5ckl91l97lc30f5yd7h840000gn/T/ipykernel_38522/3667413636.py:34: SettingWithCopyWarning: \n",
      "A value is trying to be set on a copy of a slice from a DataFrame.\n",
      "Try using .loc[row_indexer,col_indexer] = value instead\n",
      "\n",
      "See the caveats in the documentation: https://pandas.pydata.org/pandas-docs/stable/user_guide/indexing.html#returning-a-view-versus-a-copy\n",
      "  data['MarketCap'] = data['Close'] * data['Volume']  # Calculate Market Cap\n"
     ]
    },
    {
     "name": "stdout",
     "output_type": "stream",
     "text": [
      "[*********************100%%**********************]  1 of 1 completed\n",
      "Fetching data for IJH...\n",
      "[*********************100%%**********************]  1 of 1 completed\n",
      "Fetching data for MDY...\n"
     ]
    },
    {
     "name": "stderr",
     "output_type": "stream",
     "text": [
      "/var/folders/0p/fxg5ckl91l97lc30f5yd7h840000gn/T/ipykernel_38522/3667413636.py:34: SettingWithCopyWarning: \n",
      "A value is trying to be set on a copy of a slice from a DataFrame.\n",
      "Try using .loc[row_indexer,col_indexer] = value instead\n",
      "\n",
      "See the caveats in the documentation: https://pandas.pydata.org/pandas-docs/stable/user_guide/indexing.html#returning-a-view-versus-a-copy\n",
      "  data['MarketCap'] = data['Close'] * data['Volume']  # Calculate Market Cap\n",
      "/var/folders/0p/fxg5ckl91l97lc30f5yd7h840000gn/T/ipykernel_38522/3667413636.py:34: SettingWithCopyWarning: \n",
      "A value is trying to be set on a copy of a slice from a DataFrame.\n",
      "Try using .loc[row_indexer,col_indexer] = value instead\n",
      "\n",
      "See the caveats in the documentation: https://pandas.pydata.org/pandas-docs/stable/user_guide/indexing.html#returning-a-view-versus-a-copy\n",
      "  data['MarketCap'] = data['Close'] * data['Volume']  # Calculate Market Cap\n"
     ]
    },
    {
     "name": "stdout",
     "output_type": "stream",
     "text": [
      "[*********************100%%**********************]  1 of 1 completed\n",
      "Fetching data for SPMD...\n",
      "[*********************100%%**********************]  1 of 1 completed\n",
      "Fetching data for IVOO...\n"
     ]
    },
    {
     "name": "stderr",
     "output_type": "stream",
     "text": [
      "/var/folders/0p/fxg5ckl91l97lc30f5yd7h840000gn/T/ipykernel_38522/3667413636.py:34: SettingWithCopyWarning: \n",
      "A value is trying to be set on a copy of a slice from a DataFrame.\n",
      "Try using .loc[row_indexer,col_indexer] = value instead\n",
      "\n",
      "See the caveats in the documentation: https://pandas.pydata.org/pandas-docs/stable/user_guide/indexing.html#returning-a-view-versus-a-copy\n",
      "  data['MarketCap'] = data['Close'] * data['Volume']  # Calculate Market Cap\n",
      "/var/folders/0p/fxg5ckl91l97lc30f5yd7h840000gn/T/ipykernel_38522/3667413636.py:34: SettingWithCopyWarning: \n",
      "A value is trying to be set on a copy of a slice from a DataFrame.\n",
      "Try using .loc[row_indexer,col_indexer] = value instead\n",
      "\n",
      "See the caveats in the documentation: https://pandas.pydata.org/pandas-docs/stable/user_guide/indexing.html#returning-a-view-versus-a-copy\n",
      "  data['MarketCap'] = data['Close'] * data['Volume']  # Calculate Market Cap\n"
     ]
    },
    {
     "name": "stdout",
     "output_type": "stream",
     "text": [
      "[*********************100%%**********************]  1 of 1 completed\n",
      "Fetching data for SCHM...\n",
      "[*********************100%%**********************]  1 of 1 completed\n",
      "Fetching data for VXF...\n"
     ]
    },
    {
     "name": "stderr",
     "output_type": "stream",
     "text": [
      "/var/folders/0p/fxg5ckl91l97lc30f5yd7h840000gn/T/ipykernel_38522/3667413636.py:34: SettingWithCopyWarning: \n",
      "A value is trying to be set on a copy of a slice from a DataFrame.\n",
      "Try using .loc[row_indexer,col_indexer] = value instead\n",
      "\n",
      "See the caveats in the documentation: https://pandas.pydata.org/pandas-docs/stable/user_guide/indexing.html#returning-a-view-versus-a-copy\n",
      "  data['MarketCap'] = data['Close'] * data['Volume']  # Calculate Market Cap\n",
      "/var/folders/0p/fxg5ckl91l97lc30f5yd7h840000gn/T/ipykernel_38522/3667413636.py:34: SettingWithCopyWarning: \n",
      "A value is trying to be set on a copy of a slice from a DataFrame.\n",
      "Try using .loc[row_indexer,col_indexer] = value instead\n",
      "\n",
      "See the caveats in the documentation: https://pandas.pydata.org/pandas-docs/stable/user_guide/indexing.html#returning-a-view-versus-a-copy\n",
      "  data['MarketCap'] = data['Close'] * data['Volume']  # Calculate Market Cap\n"
     ]
    },
    {
     "name": "stdout",
     "output_type": "stream",
     "text": [
      "[*********************100%%**********************]  1 of 1 completed\n",
      "Fetching data for IJR...\n"
     ]
    },
    {
     "name": "stderr",
     "output_type": "stream",
     "text": [
      "/var/folders/0p/fxg5ckl91l97lc30f5yd7h840000gn/T/ipykernel_38522/3667413636.py:34: SettingWithCopyWarning: \n",
      "A value is trying to be set on a copy of a slice from a DataFrame.\n",
      "Try using .loc[row_indexer,col_indexer] = value instead\n",
      "\n",
      "See the caveats in the documentation: https://pandas.pydata.org/pandas-docs/stable/user_guide/indexing.html#returning-a-view-versus-a-copy\n",
      "  data['MarketCap'] = data['Close'] * data['Volume']  # Calculate Market Cap\n"
     ]
    },
    {
     "name": "stdout",
     "output_type": "stream",
     "text": [
      "[*********************100%%**********************]  1 of 1 completed\n",
      "Fetching data for SPSM...\n",
      "[*********************100%%**********************]  1 of 1 completed\n",
      "Fetching data for VIOO...\n"
     ]
    },
    {
     "name": "stderr",
     "output_type": "stream",
     "text": [
      "/var/folders/0p/fxg5ckl91l97lc30f5yd7h840000gn/T/ipykernel_38522/3667413636.py:34: SettingWithCopyWarning: \n",
      "A value is trying to be set on a copy of a slice from a DataFrame.\n",
      "Try using .loc[row_indexer,col_indexer] = value instead\n",
      "\n",
      "See the caveats in the documentation: https://pandas.pydata.org/pandas-docs/stable/user_guide/indexing.html#returning-a-view-versus-a-copy\n",
      "  data['MarketCap'] = data['Close'] * data['Volume']  # Calculate Market Cap\n",
      "/var/folders/0p/fxg5ckl91l97lc30f5yd7h840000gn/T/ipykernel_38522/3667413636.py:34: SettingWithCopyWarning: \n",
      "A value is trying to be set on a copy of a slice from a DataFrame.\n",
      "Try using .loc[row_indexer,col_indexer] = value instead\n",
      "\n",
      "See the caveats in the documentation: https://pandas.pydata.org/pandas-docs/stable/user_guide/indexing.html#returning-a-view-versus-a-copy\n",
      "  data['MarketCap'] = data['Close'] * data['Volume']  # Calculate Market Cap\n"
     ]
    },
    {
     "name": "stdout",
     "output_type": "stream",
     "text": [
      "[*********************100%%**********************]  1 of 1 completed\n",
      "Fetching data for SCHA...\n",
      "[*********************100%%**********************]  1 of 1 completed\n",
      "Fetching data for FDM...\n"
     ]
    },
    {
     "name": "stderr",
     "output_type": "stream",
     "text": [
      "/var/folders/0p/fxg5ckl91l97lc30f5yd7h840000gn/T/ipykernel_38522/3667413636.py:34: SettingWithCopyWarning: \n",
      "A value is trying to be set on a copy of a slice from a DataFrame.\n",
      "Try using .loc[row_indexer,col_indexer] = value instead\n",
      "\n",
      "See the caveats in the documentation: https://pandas.pydata.org/pandas-docs/stable/user_guide/indexing.html#returning-a-view-versus-a-copy\n",
      "  data['MarketCap'] = data['Close'] * data['Volume']  # Calculate Market Cap\n",
      "/var/folders/0p/fxg5ckl91l97lc30f5yd7h840000gn/T/ipykernel_38522/3667413636.py:34: SettingWithCopyWarning: \n",
      "A value is trying to be set on a copy of a slice from a DataFrame.\n",
      "Try using .loc[row_indexer,col_indexer] = value instead\n",
      "\n",
      "See the caveats in the documentation: https://pandas.pydata.org/pandas-docs/stable/user_guide/indexing.html#returning-a-view-versus-a-copy\n",
      "  data['MarketCap'] = data['Close'] * data['Volume']  # Calculate Market Cap\n"
     ]
    },
    {
     "name": "stdout",
     "output_type": "stream",
     "text": [
      "[*********************100%%**********************]  1 of 1 completed\n",
      "Fetching data for SNPE...\n",
      "[*********************100%%**********************]  1 of 1 completed\n",
      "Fetching data for EFIV...\n"
     ]
    },
    {
     "name": "stderr",
     "output_type": "stream",
     "text": [
      "/var/folders/0p/fxg5ckl91l97lc30f5yd7h840000gn/T/ipykernel_38522/3667413636.py:34: SettingWithCopyWarning: \n",
      "A value is trying to be set on a copy of a slice from a DataFrame.\n",
      "Try using .loc[row_indexer,col_indexer] = value instead\n",
      "\n",
      "See the caveats in the documentation: https://pandas.pydata.org/pandas-docs/stable/user_guide/indexing.html#returning-a-view-versus-a-copy\n",
      "  data['MarketCap'] = data['Close'] * data['Volume']  # Calculate Market Cap\n",
      "/var/folders/0p/fxg5ckl91l97lc30f5yd7h840000gn/T/ipykernel_38522/3667413636.py:34: SettingWithCopyWarning: \n",
      "A value is trying to be set on a copy of a slice from a DataFrame.\n",
      "Try using .loc[row_indexer,col_indexer] = value instead\n",
      "\n",
      "See the caveats in the documentation: https://pandas.pydata.org/pandas-docs/stable/user_guide/indexing.html#returning-a-view-versus-a-copy\n",
      "  data['MarketCap'] = data['Close'] * data['Volume']  # Calculate Market Cap\n"
     ]
    },
    {
     "name": "stdout",
     "output_type": "stream",
     "text": [
      "[*********************100%%**********************]  1 of 1 completed\n",
      "Fetching data for RSPE...\n",
      "[*********************100%%**********************]  1 of 1 completed\n",
      "Fetching data for XVV...\n"
     ]
    },
    {
     "name": "stderr",
     "output_type": "stream",
     "text": [
      "/var/folders/0p/fxg5ckl91l97lc30f5yd7h840000gn/T/ipykernel_38522/3667413636.py:34: SettingWithCopyWarning: \n",
      "A value is trying to be set on a copy of a slice from a DataFrame.\n",
      "Try using .loc[row_indexer,col_indexer] = value instead\n",
      "\n",
      "See the caveats in the documentation: https://pandas.pydata.org/pandas-docs/stable/user_guide/indexing.html#returning-a-view-versus-a-copy\n",
      "  data['MarketCap'] = data['Close'] * data['Volume']  # Calculate Market Cap\n",
      "/var/folders/0p/fxg5ckl91l97lc30f5yd7h840000gn/T/ipykernel_38522/3667413636.py:34: SettingWithCopyWarning: \n",
      "A value is trying to be set on a copy of a slice from a DataFrame.\n",
      "Try using .loc[row_indexer,col_indexer] = value instead\n",
      "\n",
      "See the caveats in the documentation: https://pandas.pydata.org/pandas-docs/stable/user_guide/indexing.html#returning-a-view-versus-a-copy\n",
      "  data['MarketCap'] = data['Close'] * data['Volume']  # Calculate Market Cap\n"
     ]
    },
    {
     "name": "stdout",
     "output_type": "stream",
     "text": [
      "[*********************100%%**********************]  1 of 1 completed\n",
      "Fetching data for MIDE...\n",
      "[*********************100%%**********************]  1 of 1 completed\n",
      "Fetching data for XJH...\n"
     ]
    },
    {
     "name": "stderr",
     "output_type": "stream",
     "text": [
      "/var/folders/0p/fxg5ckl91l97lc30f5yd7h840000gn/T/ipykernel_38522/3667413636.py:34: SettingWithCopyWarning: \n",
      "A value is trying to be set on a copy of a slice from a DataFrame.\n",
      "Try using .loc[row_indexer,col_indexer] = value instead\n",
      "\n",
      "See the caveats in the documentation: https://pandas.pydata.org/pandas-docs/stable/user_guide/indexing.html#returning-a-view-versus-a-copy\n",
      "  data['MarketCap'] = data['Close'] * data['Volume']  # Calculate Market Cap\n",
      "/var/folders/0p/fxg5ckl91l97lc30f5yd7h840000gn/T/ipykernel_38522/3667413636.py:34: SettingWithCopyWarning: \n",
      "A value is trying to be set on a copy of a slice from a DataFrame.\n",
      "Try using .loc[row_indexer,col_indexer] = value instead\n",
      "\n",
      "See the caveats in the documentation: https://pandas.pydata.org/pandas-docs/stable/user_guide/indexing.html#returning-a-view-versus-a-copy\n",
      "  data['MarketCap'] = data['Close'] * data['Volume']  # Calculate Market Cap\n"
     ]
    },
    {
     "name": "stdout",
     "output_type": "stream",
     "text": [
      "[*********************100%%**********************]  1 of 1 completed\n",
      "Fetching data for SMLE...\n",
      "[*********************100%%**********************]  1 of 1 completed\n",
      "Fetching data for ESIX...\n"
     ]
    },
    {
     "name": "stderr",
     "output_type": "stream",
     "text": [
      "/var/folders/0p/fxg5ckl91l97lc30f5yd7h840000gn/T/ipykernel_38522/3667413636.py:34: SettingWithCopyWarning: \n",
      "A value is trying to be set on a copy of a slice from a DataFrame.\n",
      "Try using .loc[row_indexer,col_indexer] = value instead\n",
      "\n",
      "See the caveats in the documentation: https://pandas.pydata.org/pandas-docs/stable/user_guide/indexing.html#returning-a-view-versus-a-copy\n",
      "  data['MarketCap'] = data['Close'] * data['Volume']  # Calculate Market Cap\n",
      "/var/folders/0p/fxg5ckl91l97lc30f5yd7h840000gn/T/ipykernel_38522/3667413636.py:34: SettingWithCopyWarning: \n",
      "A value is trying to be set on a copy of a slice from a DataFrame.\n",
      "Try using .loc[row_indexer,col_indexer] = value instead\n",
      "\n",
      "See the caveats in the documentation: https://pandas.pydata.org/pandas-docs/stable/user_guide/indexing.html#returning-a-view-versus-a-copy\n",
      "  data['MarketCap'] = data['Close'] * data['Volume']  # Calculate Market Cap\n"
     ]
    },
    {
     "name": "stdout",
     "output_type": "stream",
     "text": [
      "[*********************100%%**********************]  1 of 1 completed\n",
      "Fetching data for XJR...\n"
     ]
    },
    {
     "name": "stderr",
     "output_type": "stream",
     "text": [
      "/var/folders/0p/fxg5ckl91l97lc30f5yd7h840000gn/T/ipykernel_38522/3667413636.py:34: SettingWithCopyWarning: \n",
      "A value is trying to be set on a copy of a slice from a DataFrame.\n",
      "Try using .loc[row_indexer,col_indexer] = value instead\n",
      "\n",
      "See the caveats in the documentation: https://pandas.pydata.org/pandas-docs/stable/user_guide/indexing.html#returning-a-view-versus-a-copy\n",
      "  data['MarketCap'] = data['Close'] * data['Volume']  # Calculate Market Cap\n"
     ]
    },
    {
     "name": "stdout",
     "output_type": "stream",
     "text": [
      "[*********************100%%**********************]  1 of 1 completed\n",
      "Fetching data for SNPG...\n",
      "[*********************100%%**********************]  1 of 1 completed\n",
      "Fetching data for SNPV...\n"
     ]
    },
    {
     "name": "stderr",
     "output_type": "stream",
     "text": [
      "/var/folders/0p/fxg5ckl91l97lc30f5yd7h840000gn/T/ipykernel_38522/3667413636.py:34: SettingWithCopyWarning: \n",
      "A value is trying to be set on a copy of a slice from a DataFrame.\n",
      "Try using .loc[row_indexer,col_indexer] = value instead\n",
      "\n",
      "See the caveats in the documentation: https://pandas.pydata.org/pandas-docs/stable/user_guide/indexing.html#returning-a-view-versus-a-copy\n",
      "  data['MarketCap'] = data['Close'] * data['Volume']  # Calculate Market Cap\n",
      "/var/folders/0p/fxg5ckl91l97lc30f5yd7h840000gn/T/ipykernel_38522/3667413636.py:34: SettingWithCopyWarning: \n",
      "A value is trying to be set on a copy of a slice from a DataFrame.\n",
      "Try using .loc[row_indexer,col_indexer] = value instead\n",
      "\n",
      "See the caveats in the documentation: https://pandas.pydata.org/pandas-docs/stable/user_guide/indexing.html#returning-a-view-versus-a-copy\n",
      "  data['MarketCap'] = data['Close'] * data['Volume']  # Calculate Market Cap\n"
     ]
    },
    {
     "name": "stdout",
     "output_type": "stream",
     "text": [
      "[*********************100%%**********************]  1 of 1 completed\n",
      "Fetching data for SNPD...\n",
      "[*********************100%%**********************]  1 of 1 completed\n",
      "Fetching data for SPYX...\n"
     ]
    },
    {
     "name": "stderr",
     "output_type": "stream",
     "text": [
      "/var/folders/0p/fxg5ckl91l97lc30f5yd7h840000gn/T/ipykernel_38522/3667413636.py:34: SettingWithCopyWarning: \n",
      "A value is trying to be set on a copy of a slice from a DataFrame.\n",
      "Try using .loc[row_indexer,col_indexer] = value instead\n",
      "\n",
      "See the caveats in the documentation: https://pandas.pydata.org/pandas-docs/stable/user_guide/indexing.html#returning-a-view-versus-a-copy\n",
      "  data['MarketCap'] = data['Close'] * data['Volume']  # Calculate Market Cap\n",
      "/var/folders/0p/fxg5ckl91l97lc30f5yd7h840000gn/T/ipykernel_38522/3667413636.py:34: SettingWithCopyWarning: \n",
      "A value is trying to be set on a copy of a slice from a DataFrame.\n",
      "Try using .loc[row_indexer,col_indexer] = value instead\n",
      "\n",
      "See the caveats in the documentation: https://pandas.pydata.org/pandas-docs/stable/user_guide/indexing.html#returning-a-view-versus-a-copy\n",
      "  data['MarketCap'] = data['Close'] * data['Volume']  # Calculate Market Cap\n"
     ]
    },
    {
     "name": "stdout",
     "output_type": "stream",
     "text": [
      "[*********************100%%**********************]  1 of 1 completed\n",
      "Fetching data for ICLN...\n",
      "[*********************100%%**********************]  1 of 1 completed\n",
      "Fetching data for CGW...\n"
     ]
    },
    {
     "name": "stderr",
     "output_type": "stream",
     "text": [
      "/var/folders/0p/fxg5ckl91l97lc30f5yd7h840000gn/T/ipykernel_38522/3667413636.py:34: SettingWithCopyWarning: \n",
      "A value is trying to be set on a copy of a slice from a DataFrame.\n",
      "Try using .loc[row_indexer,col_indexer] = value instead\n",
      "\n",
      "See the caveats in the documentation: https://pandas.pydata.org/pandas-docs/stable/user_guide/indexing.html#returning-a-view-versus-a-copy\n",
      "  data['MarketCap'] = data['Close'] * data['Volume']  # Calculate Market Cap\n",
      "/var/folders/0p/fxg5ckl91l97lc30f5yd7h840000gn/T/ipykernel_38522/3667413636.py:34: SettingWithCopyWarning: \n",
      "A value is trying to be set on a copy of a slice from a DataFrame.\n",
      "Try using .loc[row_indexer,col_indexer] = value instead\n",
      "\n",
      "See the caveats in the documentation: https://pandas.pydata.org/pandas-docs/stable/user_guide/indexing.html#returning-a-view-versus-a-copy\n",
      "  data['MarketCap'] = data['Close'] * data['Volume']  # Calculate Market Cap\n"
     ]
    },
    {
     "name": "stdout",
     "output_type": "stream",
     "text": [
      "[*********************100%%**********************]  1 of 1 completed\n",
      "Fetching data for CATH...\n"
     ]
    },
    {
     "name": "stderr",
     "output_type": "stream",
     "text": [
      "/var/folders/0p/fxg5ckl91l97lc30f5yd7h840000gn/T/ipykernel_38522/3667413636.py:34: SettingWithCopyWarning: \n",
      "A value is trying to be set on a copy of a slice from a DataFrame.\n",
      "Try using .loc[row_indexer,col_indexer] = value instead\n",
      "\n",
      "See the caveats in the documentation: https://pandas.pydata.org/pandas-docs/stable/user_guide/indexing.html#returning-a-view-versus-a-copy\n",
      "  data['MarketCap'] = data['Close'] * data['Volume']  # Calculate Market Cap\n"
     ]
    },
    {
     "name": "stdout",
     "output_type": "stream",
     "text": [
      "[*********************100%%**********************]  1 of 1 completed\n",
      "Fetching data for GRNB...\n",
      "[*********************100%%**********************]  1 of 1 completed\n",
      "Fetching data for KRBN...\n"
     ]
    },
    {
     "name": "stderr",
     "output_type": "stream",
     "text": [
      "/var/folders/0p/fxg5ckl91l97lc30f5yd7h840000gn/T/ipykernel_38522/3667413636.py:34: SettingWithCopyWarning: \n",
      "A value is trying to be set on a copy of a slice from a DataFrame.\n",
      "Try using .loc[row_indexer,col_indexer] = value instead\n",
      "\n",
      "See the caveats in the documentation: https://pandas.pydata.org/pandas-docs/stable/user_guide/indexing.html#returning-a-view-versus-a-copy\n",
      "  data['MarketCap'] = data['Close'] * data['Volume']  # Calculate Market Cap\n",
      "/var/folders/0p/fxg5ckl91l97lc30f5yd7h840000gn/T/ipykernel_38522/3667413636.py:34: SettingWithCopyWarning: \n",
      "A value is trying to be set on a copy of a slice from a DataFrame.\n",
      "Try using .loc[row_indexer,col_indexer] = value instead\n",
      "\n",
      "See the caveats in the documentation: https://pandas.pydata.org/pandas-docs/stable/user_guide/indexing.html#returning-a-view-versus-a-copy\n",
      "  data['MarketCap'] = data['Close'] * data['Volume']  # Calculate Market Cap\n"
     ]
    },
    {
     "name": "stdout",
     "output_type": "stream",
     "text": [
      "[*********************100%%**********************]  1 of 1 completed\n",
      "Fetching data for KCCA...\n",
      "[*********************100%%**********************]  1 of 1 completed\n",
      "Fetching data for KEUA...\n"
     ]
    },
    {
     "name": "stderr",
     "output_type": "stream",
     "text": [
      "/var/folders/0p/fxg5ckl91l97lc30f5yd7h840000gn/T/ipykernel_38522/3667413636.py:34: SettingWithCopyWarning: \n",
      "A value is trying to be set on a copy of a slice from a DataFrame.\n",
      "Try using .loc[row_indexer,col_indexer] = value instead\n",
      "\n",
      "See the caveats in the documentation: https://pandas.pydata.org/pandas-docs/stable/user_guide/indexing.html#returning-a-view-versus-a-copy\n",
      "  data['MarketCap'] = data['Close'] * data['Volume']  # Calculate Market Cap\n",
      "/var/folders/0p/fxg5ckl91l97lc30f5yd7h840000gn/T/ipykernel_38522/3667413636.py:34: SettingWithCopyWarning: \n",
      "A value is trying to be set on a copy of a slice from a DataFrame.\n",
      "Try using .loc[row_indexer,col_indexer] = value instead\n",
      "\n",
      "See the caveats in the documentation: https://pandas.pydata.org/pandas-docs/stable/user_guide/indexing.html#returning-a-view-versus-a-copy\n",
      "  data['MarketCap'] = data['Close'] * data['Volume']  # Calculate Market Cap\n"
     ]
    },
    {
     "name": "stdout",
     "output_type": "stream",
     "text": [
      "[*********************100%%**********************]  1 of 1 completed\n",
      "Fetching data for SCHD...\n",
      "[*********************100%%**********************]  1 of 1 completed\n",
      "Fetching data for DVY...\n"
     ]
    },
    {
     "name": "stderr",
     "output_type": "stream",
     "text": [
      "/var/folders/0p/fxg5ckl91l97lc30f5yd7h840000gn/T/ipykernel_38522/3667413636.py:34: SettingWithCopyWarning: \n",
      "A value is trying to be set on a copy of a slice from a DataFrame.\n",
      "Try using .loc[row_indexer,col_indexer] = value instead\n",
      "\n",
      "See the caveats in the documentation: https://pandas.pydata.org/pandas-docs/stable/user_guide/indexing.html#returning-a-view-versus-a-copy\n",
      "  data['MarketCap'] = data['Close'] * data['Volume']  # Calculate Market Cap\n",
      "/var/folders/0p/fxg5ckl91l97lc30f5yd7h840000gn/T/ipykernel_38522/3667413636.py:34: SettingWithCopyWarning: \n",
      "A value is trying to be set on a copy of a slice from a DataFrame.\n",
      "Try using .loc[row_indexer,col_indexer] = value instead\n",
      "\n",
      "See the caveats in the documentation: https://pandas.pydata.org/pandas-docs/stable/user_guide/indexing.html#returning-a-view-versus-a-copy\n",
      "  data['MarketCap'] = data['Close'] * data['Volume']  # Calculate Market Cap\n"
     ]
    },
    {
     "name": "stdout",
     "output_type": "stream",
     "text": [
      "[*********************100%%**********************]  1 of 1 completed\n",
      "Fetching data for ISPY...\n",
      "[*********************100%%**********************]  1 of 1 completed\n",
      "Fetching data for NOBL...\n"
     ]
    },
    {
     "name": "stderr",
     "output_type": "stream",
     "text": [
      "/var/folders/0p/fxg5ckl91l97lc30f5yd7h840000gn/T/ipykernel_38522/3667413636.py:34: SettingWithCopyWarning: \n",
      "A value is trying to be set on a copy of a slice from a DataFrame.\n",
      "Try using .loc[row_indexer,col_indexer] = value instead\n",
      "\n",
      "See the caveats in the documentation: https://pandas.pydata.org/pandas-docs/stable/user_guide/indexing.html#returning-a-view-versus-a-copy\n",
      "  data['MarketCap'] = data['Close'] * data['Volume']  # Calculate Market Cap\n",
      "/var/folders/0p/fxg5ckl91l97lc30f5yd7h840000gn/T/ipykernel_38522/3667413636.py:34: SettingWithCopyWarning: \n",
      "A value is trying to be set on a copy of a slice from a DataFrame.\n",
      "Try using .loc[row_indexer,col_indexer] = value instead\n",
      "\n",
      "See the caveats in the documentation: https://pandas.pydata.org/pandas-docs/stable/user_guide/indexing.html#returning-a-view-versus-a-copy\n",
      "  data['MarketCap'] = data['Close'] * data['Volume']  # Calculate Market Cap\n"
     ]
    },
    {
     "name": "stdout",
     "output_type": "stream",
     "text": [
      "[*********************100%%**********************]  1 of 1 completed\n",
      "Fetching data for DIVG...\n",
      "[*********************100%%**********************]  1 of 1 completed\n",
      "Fetching data for SPYD...\n"
     ]
    },
    {
     "name": "stderr",
     "output_type": "stream",
     "text": [
      "/var/folders/0p/fxg5ckl91l97lc30f5yd7h840000gn/T/ipykernel_38522/3667413636.py:34: SettingWithCopyWarning: \n",
      "A value is trying to be set on a copy of a slice from a DataFrame.\n",
      "Try using .loc[row_indexer,col_indexer] = value instead\n",
      "\n",
      "See the caveats in the documentation: https://pandas.pydata.org/pandas-docs/stable/user_guide/indexing.html#returning-a-view-versus-a-copy\n",
      "  data['MarketCap'] = data['Close'] * data['Volume']  # Calculate Market Cap\n",
      "/var/folders/0p/fxg5ckl91l97lc30f5yd7h840000gn/T/ipykernel_38522/3667413636.py:34: SettingWithCopyWarning: \n",
      "A value is trying to be set on a copy of a slice from a DataFrame.\n",
      "Try using .loc[row_indexer,col_indexer] = value instead\n",
      "\n",
      "See the caveats in the documentation: https://pandas.pydata.org/pandas-docs/stable/user_guide/indexing.html#returning-a-view-versus-a-copy\n",
      "  data['MarketCap'] = data['Close'] * data['Volume']  # Calculate Market Cap\n"
     ]
    },
    {
     "name": "stdout",
     "output_type": "stream",
     "text": [
      "[*********************100%%**********************]  1 of 1 completed\n",
      "Fetching data for SPHD...\n",
      "[*********************100%%**********************]  1 of 1 completed\n",
      "Fetching data for KNGZ...\n"
     ]
    },
    {
     "name": "stderr",
     "output_type": "stream",
     "text": [
      "/var/folders/0p/fxg5ckl91l97lc30f5yd7h840000gn/T/ipykernel_38522/3667413636.py:34: SettingWithCopyWarning: \n",
      "A value is trying to be set on a copy of a slice from a DataFrame.\n",
      "Try using .loc[row_indexer,col_indexer] = value instead\n",
      "\n",
      "See the caveats in the documentation: https://pandas.pydata.org/pandas-docs/stable/user_guide/indexing.html#returning-a-view-versus-a-copy\n",
      "  data['MarketCap'] = data['Close'] * data['Volume']  # Calculate Market Cap\n",
      "/var/folders/0p/fxg5ckl91l97lc30f5yd7h840000gn/T/ipykernel_38522/3667413636.py:34: SettingWithCopyWarning: \n",
      "A value is trying to be set on a copy of a slice from a DataFrame.\n",
      "Try using .loc[row_indexer,col_indexer] = value instead\n",
      "\n",
      "See the caveats in the documentation: https://pandas.pydata.org/pandas-docs/stable/user_guide/indexing.html#returning-a-view-versus-a-copy\n",
      "  data['MarketCap'] = data['Close'] * data['Volume']  # Calculate Market Cap\n"
     ]
    },
    {
     "name": "stdout",
     "output_type": "stream",
     "text": [
      "[*********************100%%**********************]  1 of 1 completed\n",
      "Fetching data for SDY...\n",
      "[*********************100%%**********************]  1 of 1 completed\n",
      "Fetching data for REGL...\n"
     ]
    },
    {
     "name": "stderr",
     "output_type": "stream",
     "text": [
      "/var/folders/0p/fxg5ckl91l97lc30f5yd7h840000gn/T/ipykernel_38522/3667413636.py:34: SettingWithCopyWarning: \n",
      "A value is trying to be set on a copy of a slice from a DataFrame.\n",
      "Try using .loc[row_indexer,col_indexer] = value instead\n",
      "\n",
      "See the caveats in the documentation: https://pandas.pydata.org/pandas-docs/stable/user_guide/indexing.html#returning-a-view-versus-a-copy\n",
      "  data['MarketCap'] = data['Close'] * data['Volume']  # Calculate Market Cap\n",
      "/var/folders/0p/fxg5ckl91l97lc30f5yd7h840000gn/T/ipykernel_38522/3667413636.py:34: SettingWithCopyWarning: \n",
      "A value is trying to be set on a copy of a slice from a DataFrame.\n",
      "Try using .loc[row_indexer,col_indexer] = value instead\n",
      "\n",
      "See the caveats in the documentation: https://pandas.pydata.org/pandas-docs/stable/user_guide/indexing.html#returning-a-view-versus-a-copy\n",
      "  data['MarketCap'] = data['Close'] * data['Volume']  # Calculate Market Cap\n"
     ]
    },
    {
     "name": "stdout",
     "output_type": "stream",
     "text": [
      "[*********************100%%**********************]  1 of 1 completed\n",
      "Fetching data for XSHD...\n",
      "[*********************100%%**********************]  1 of 1 completed\n",
      "Fetching data for SPDG...\n"
     ]
    },
    {
     "name": "stderr",
     "output_type": "stream",
     "text": [
      "/var/folders/0p/fxg5ckl91l97lc30f5yd7h840000gn/T/ipykernel_38522/3667413636.py:34: SettingWithCopyWarning: \n",
      "A value is trying to be set on a copy of a slice from a DataFrame.\n",
      "Try using .loc[row_indexer,col_indexer] = value instead\n",
      "\n",
      "See the caveats in the documentation: https://pandas.pydata.org/pandas-docs/stable/user_guide/indexing.html#returning-a-view-versus-a-copy\n",
      "  data['MarketCap'] = data['Close'] * data['Volume']  # Calculate Market Cap\n",
      "/var/folders/0p/fxg5ckl91l97lc30f5yd7h840000gn/T/ipykernel_38522/3667413636.py:34: SettingWithCopyWarning: \n",
      "A value is trying to be set on a copy of a slice from a DataFrame.\n",
      "Try using .loc[row_indexer,col_indexer] = value instead\n",
      "\n",
      "See the caveats in the documentation: https://pandas.pydata.org/pandas-docs/stable/user_guide/indexing.html#returning-a-view-versus-a-copy\n",
      "  data['MarketCap'] = data['Close'] * data['Volume']  # Calculate Market Cap\n"
     ]
    },
    {
     "name": "stdout",
     "output_type": "stream",
     "text": [
      "[*********************100%%**********************]  1 of 1 completed\n",
      "Fetching data for TDV...\n",
      "[*********************100%%**********************]  1 of 1 completed\n",
      "Fetching data for VTEB...\n"
     ]
    },
    {
     "name": "stderr",
     "output_type": "stream",
     "text": [
      "/var/folders/0p/fxg5ckl91l97lc30f5yd7h840000gn/T/ipykernel_38522/3667413636.py:34: SettingWithCopyWarning: \n",
      "A value is trying to be set on a copy of a slice from a DataFrame.\n",
      "Try using .loc[row_indexer,col_indexer] = value instead\n",
      "\n",
      "See the caveats in the documentation: https://pandas.pydata.org/pandas-docs/stable/user_guide/indexing.html#returning-a-view-versus-a-copy\n",
      "  data['MarketCap'] = data['Close'] * data['Volume']  # Calculate Market Cap\n",
      "/var/folders/0p/fxg5ckl91l97lc30f5yd7h840000gn/T/ipykernel_38522/3667413636.py:34: SettingWithCopyWarning: \n",
      "A value is trying to be set on a copy of a slice from a DataFrame.\n",
      "Try using .loc[row_indexer,col_indexer] = value instead\n",
      "\n",
      "See the caveats in the documentation: https://pandas.pydata.org/pandas-docs/stable/user_guide/indexing.html#returning-a-view-versus-a-copy\n",
      "  data['MarketCap'] = data['Close'] * data['Volume']  # Calculate Market Cap\n"
     ]
    },
    {
     "name": "stdout",
     "output_type": "stream",
     "text": [
      "[*********************100%%**********************]  1 of 1 completed\n",
      "Fetching data for TAXF...\n",
      "[*********************100%%**********************]  1 of 1 completed\n",
      "Fetching data for AVMU...\n"
     ]
    },
    {
     "name": "stderr",
     "output_type": "stream",
     "text": [
      "/var/folders/0p/fxg5ckl91l97lc30f5yd7h840000gn/T/ipykernel_38522/3667413636.py:34: SettingWithCopyWarning: \n",
      "A value is trying to be set on a copy of a slice from a DataFrame.\n",
      "Try using .loc[row_indexer,col_indexer] = value instead\n",
      "\n",
      "See the caveats in the documentation: https://pandas.pydata.org/pandas-docs/stable/user_guide/indexing.html#returning-a-view-versus-a-copy\n",
      "  data['MarketCap'] = data['Close'] * data['Volume']  # Calculate Market Cap\n",
      "/var/folders/0p/fxg5ckl91l97lc30f5yd7h840000gn/T/ipykernel_38522/3667413636.py:34: SettingWithCopyWarning: \n",
      "A value is trying to be set on a copy of a slice from a DataFrame.\n",
      "Try using .loc[row_indexer,col_indexer] = value instead\n",
      "\n",
      "See the caveats in the documentation: https://pandas.pydata.org/pandas-docs/stable/user_guide/indexing.html#returning-a-view-versus-a-copy\n",
      "  data['MarketCap'] = data['Close'] * data['Volume']  # Calculate Market Cap\n"
     ]
    },
    {
     "name": "stdout",
     "output_type": "stream",
     "text": [
      "[*********************100%%**********************]  1 of 1 completed\n",
      "Fetching data for DFNM...\n",
      "[*********************100%%**********************]  1 of 1 completed\n",
      "Fetching data for IBMM...\n"
     ]
    },
    {
     "name": "stderr",
     "output_type": "stream",
     "text": [
      "/var/folders/0p/fxg5ckl91l97lc30f5yd7h840000gn/T/ipykernel_38522/3667413636.py:34: SettingWithCopyWarning: \n",
      "A value is trying to be set on a copy of a slice from a DataFrame.\n",
      "Try using .loc[row_indexer,col_indexer] = value instead\n",
      "\n",
      "See the caveats in the documentation: https://pandas.pydata.org/pandas-docs/stable/user_guide/indexing.html#returning-a-view-versus-a-copy\n",
      "  data['MarketCap'] = data['Close'] * data['Volume']  # Calculate Market Cap\n",
      "/var/folders/0p/fxg5ckl91l97lc30f5yd7h840000gn/T/ipykernel_38522/3667413636.py:34: SettingWithCopyWarning: \n",
      "A value is trying to be set on a copy of a slice from a DataFrame.\n",
      "Try using .loc[row_indexer,col_indexer] = value instead\n",
      "\n",
      "See the caveats in the documentation: https://pandas.pydata.org/pandas-docs/stable/user_guide/indexing.html#returning-a-view-versus-a-copy\n",
      "  data['MarketCap'] = data['Close'] * data['Volume']  # Calculate Market Cap\n"
     ]
    },
    {
     "name": "stdout",
     "output_type": "stream",
     "text": [
      "[*********************100%%**********************]  1 of 1 completed\n",
      "Fetching data for IBMN...\n",
      "[*********************100%%**********************]  1 of 1 completed\n",
      "Fetching data for IBMO...\n"
     ]
    },
    {
     "name": "stderr",
     "output_type": "stream",
     "text": [
      "/var/folders/0p/fxg5ckl91l97lc30f5yd7h840000gn/T/ipykernel_38522/3667413636.py:34: SettingWithCopyWarning: \n",
      "A value is trying to be set on a copy of a slice from a DataFrame.\n",
      "Try using .loc[row_indexer,col_indexer] = value instead\n",
      "\n",
      "See the caveats in the documentation: https://pandas.pydata.org/pandas-docs/stable/user_guide/indexing.html#returning-a-view-versus-a-copy\n",
      "  data['MarketCap'] = data['Close'] * data['Volume']  # Calculate Market Cap\n",
      "/var/folders/0p/fxg5ckl91l97lc30f5yd7h840000gn/T/ipykernel_38522/3667413636.py:34: SettingWithCopyWarning: \n",
      "A value is trying to be set on a copy of a slice from a DataFrame.\n",
      "Try using .loc[row_indexer,col_indexer] = value instead\n",
      "\n",
      "See the caveats in the documentation: https://pandas.pydata.org/pandas-docs/stable/user_guide/indexing.html#returning-a-view-versus-a-copy\n",
      "  data['MarketCap'] = data['Close'] * data['Volume']  # Calculate Market Cap\n"
     ]
    },
    {
     "name": "stdout",
     "output_type": "stream",
     "text": [
      "[*********************100%%**********************]  1 of 1 completed\n",
      "Fetching data for IBMP...\n",
      "[*********************100%%**********************]  1 of 1 completed\n",
      "Fetching data for IBMQ...\n"
     ]
    },
    {
     "name": "stderr",
     "output_type": "stream",
     "text": [
      "/var/folders/0p/fxg5ckl91l97lc30f5yd7h840000gn/T/ipykernel_38522/3667413636.py:34: SettingWithCopyWarning: \n",
      "A value is trying to be set on a copy of a slice from a DataFrame.\n",
      "Try using .loc[row_indexer,col_indexer] = value instead\n",
      "\n",
      "See the caveats in the documentation: https://pandas.pydata.org/pandas-docs/stable/user_guide/indexing.html#returning-a-view-versus-a-copy\n",
      "  data['MarketCap'] = data['Close'] * data['Volume']  # Calculate Market Cap\n",
      "/var/folders/0p/fxg5ckl91l97lc30f5yd7h840000gn/T/ipykernel_38522/3667413636.py:34: SettingWithCopyWarning: \n",
      "A value is trying to be set on a copy of a slice from a DataFrame.\n",
      "Try using .loc[row_indexer,col_indexer] = value instead\n",
      "\n",
      "See the caveats in the documentation: https://pandas.pydata.org/pandas-docs/stable/user_guide/indexing.html#returning-a-view-versus-a-copy\n",
      "  data['MarketCap'] = data['Close'] * data['Volume']  # Calculate Market Cap\n"
     ]
    },
    {
     "name": "stdout",
     "output_type": "stream",
     "text": [
      "[*********************100%%**********************]  1 of 1 completed\n",
      "Fetching data for IBMR...\n",
      "[*********************100%%**********************]  1 of 1 completed\n",
      "Fetching data for LQD...\n"
     ]
    },
    {
     "name": "stderr",
     "output_type": "stream",
     "text": [
      "/var/folders/0p/fxg5ckl91l97lc30f5yd7h840000gn/T/ipykernel_38522/3667413636.py:34: SettingWithCopyWarning: \n",
      "A value is trying to be set on a copy of a slice from a DataFrame.\n",
      "Try using .loc[row_indexer,col_indexer] = value instead\n",
      "\n",
      "See the caveats in the documentation: https://pandas.pydata.org/pandas-docs/stable/user_guide/indexing.html#returning-a-view-versus-a-copy\n",
      "  data['MarketCap'] = data['Close'] * data['Volume']  # Calculate Market Cap\n",
      "/var/folders/0p/fxg5ckl91l97lc30f5yd7h840000gn/T/ipykernel_38522/3667413636.py:34: SettingWithCopyWarning: \n",
      "A value is trying to be set on a copy of a slice from a DataFrame.\n",
      "Try using .loc[row_indexer,col_indexer] = value instead\n",
      "\n",
      "See the caveats in the documentation: https://pandas.pydata.org/pandas-docs/stable/user_guide/indexing.html#returning-a-view-versus-a-copy\n",
      "  data['MarketCap'] = data['Close'] * data['Volume']  # Calculate Market Cap\n"
     ]
    },
    {
     "name": "stdout",
     "output_type": "stream",
     "text": [
      "[*********************100%%**********************]  1 of 1 completed\n",
      "Fetching data for SLQD...\n"
     ]
    },
    {
     "name": "stderr",
     "output_type": "stream",
     "text": [
      "/var/folders/0p/fxg5ckl91l97lc30f5yd7h840000gn/T/ipykernel_38522/3667413636.py:34: SettingWithCopyWarning: \n",
      "A value is trying to be set on a copy of a slice from a DataFrame.\n",
      "Try using .loc[row_indexer,col_indexer] = value instead\n",
      "\n",
      "See the caveats in the documentation: https://pandas.pydata.org/pandas-docs/stable/user_guide/indexing.html#returning-a-view-versus-a-copy\n",
      "  data['MarketCap'] = data['Close'] * data['Volume']  # Calculate Market Cap\n"
     ]
    },
    {
     "name": "stdout",
     "output_type": "stream",
     "text": [
      "[*********************100%%**********************]  1 of 1 completed\n",
      "Fetching data for LQDB...\n",
      "[*********************100%%**********************]  1 of 1 completed\n",
      "Fetching data for HYG...\n"
     ]
    },
    {
     "name": "stderr",
     "output_type": "stream",
     "text": [
      "/var/folders/0p/fxg5ckl91l97lc30f5yd7h840000gn/T/ipykernel_38522/3667413636.py:34: SettingWithCopyWarning: \n",
      "A value is trying to be set on a copy of a slice from a DataFrame.\n",
      "Try using .loc[row_indexer,col_indexer] = value instead\n",
      "\n",
      "See the caveats in the documentation: https://pandas.pydata.org/pandas-docs/stable/user_guide/indexing.html#returning-a-view-versus-a-copy\n",
      "  data['MarketCap'] = data['Close'] * data['Volume']  # Calculate Market Cap\n",
      "/var/folders/0p/fxg5ckl91l97lc30f5yd7h840000gn/T/ipykernel_38522/3667413636.py:34: SettingWithCopyWarning: \n",
      "A value is trying to be set on a copy of a slice from a DataFrame.\n",
      "Try using .loc[row_indexer,col_indexer] = value instead\n",
      "\n",
      "See the caveats in the documentation: https://pandas.pydata.org/pandas-docs/stable/user_guide/indexing.html#returning-a-view-versus-a-copy\n",
      "  data['MarketCap'] = data['Close'] * data['Volume']  # Calculate Market Cap\n"
     ]
    },
    {
     "name": "stdout",
     "output_type": "stream",
     "text": [
      "[*********************100%%**********************]  1 of 1 completed\n",
      "Fetching data for SHYG...\n"
     ]
    },
    {
     "name": "stderr",
     "output_type": "stream",
     "text": [
      "/var/folders/0p/fxg5ckl91l97lc30f5yd7h840000gn/T/ipykernel_38522/3667413636.py:34: SettingWithCopyWarning: \n",
      "A value is trying to be set on a copy of a slice from a DataFrame.\n",
      "Try using .loc[row_indexer,col_indexer] = value instead\n",
      "\n",
      "See the caveats in the documentation: https://pandas.pydata.org/pandas-docs/stable/user_guide/indexing.html#returning-a-view-versus-a-copy\n",
      "  data['MarketCap'] = data['Close'] * data['Volume']  # Calculate Market Cap\n"
     ]
    },
    {
     "name": "stdout",
     "output_type": "stream",
     "text": [
      "[*********************100%%**********************]  1 of 1 completed\n",
      "Fetching data for TDTF...\n",
      "[*********************100%%**********************]  1 of 1 completed\n",
      "Fetching data for TDTT...\n"
     ]
    },
    {
     "name": "stderr",
     "output_type": "stream",
     "text": [
      "/var/folders/0p/fxg5ckl91l97lc30f5yd7h840000gn/T/ipykernel_38522/3667413636.py:34: SettingWithCopyWarning: \n",
      "A value is trying to be set on a copy of a slice from a DataFrame.\n",
      "Try using .loc[row_indexer,col_indexer] = value instead\n",
      "\n",
      "See the caveats in the documentation: https://pandas.pydata.org/pandas-docs/stable/user_guide/indexing.html#returning-a-view-versus-a-copy\n",
      "  data['MarketCap'] = data['Close'] * data['Volume']  # Calculate Market Cap\n",
      "/var/folders/0p/fxg5ckl91l97lc30f5yd7h840000gn/T/ipykernel_38522/3667413636.py:34: SettingWithCopyWarning: \n",
      "A value is trying to be set on a copy of a slice from a DataFrame.\n",
      "Try using .loc[row_indexer,col_indexer] = value instead\n",
      "\n",
      "See the caveats in the documentation: https://pandas.pydata.org/pandas-docs/stable/user_guide/indexing.html#returning-a-view-versus-a-copy\n",
      "  data['MarketCap'] = data['Close'] * data['Volume']  # Calculate Market Cap\n"
     ]
    },
    {
     "name": "stdout",
     "output_type": "stream",
     "text": [
      "[*********************100%%**********************]  1 of 1 completed\n",
      "Fetching data for XLC...\n",
      "[*********************100%%**********************]  1 of 1 completed\n",
      "Fetching data for XLY...\n"
     ]
    },
    {
     "name": "stderr",
     "output_type": "stream",
     "text": [
      "/var/folders/0p/fxg5ckl91l97lc30f5yd7h840000gn/T/ipykernel_38522/3667413636.py:34: SettingWithCopyWarning: \n",
      "A value is trying to be set on a copy of a slice from a DataFrame.\n",
      "Try using .loc[row_indexer,col_indexer] = value instead\n",
      "\n",
      "See the caveats in the documentation: https://pandas.pydata.org/pandas-docs/stable/user_guide/indexing.html#returning-a-view-versus-a-copy\n",
      "  data['MarketCap'] = data['Close'] * data['Volume']  # Calculate Market Cap\n",
      "/var/folders/0p/fxg5ckl91l97lc30f5yd7h840000gn/T/ipykernel_38522/3667413636.py:34: SettingWithCopyWarning: \n",
      "A value is trying to be set on a copy of a slice from a DataFrame.\n",
      "Try using .loc[row_indexer,col_indexer] = value instead\n",
      "\n",
      "See the caveats in the documentation: https://pandas.pydata.org/pandas-docs/stable/user_guide/indexing.html#returning-a-view-versus-a-copy\n",
      "  data['MarketCap'] = data['Close'] * data['Volume']  # Calculate Market Cap\n"
     ]
    },
    {
     "name": "stdout",
     "output_type": "stream",
     "text": [
      "[*********************100%%**********************]  1 of 1 completed\n",
      "Fetching data for XLE...\n",
      "[*********************100%%**********************]  1 of 1 completed\n",
      "Fetching data for XLF...\n"
     ]
    },
    {
     "name": "stderr",
     "output_type": "stream",
     "text": [
      "/var/folders/0p/fxg5ckl91l97lc30f5yd7h840000gn/T/ipykernel_38522/3667413636.py:34: SettingWithCopyWarning: \n",
      "A value is trying to be set on a copy of a slice from a DataFrame.\n",
      "Try using .loc[row_indexer,col_indexer] = value instead\n",
      "\n",
      "See the caveats in the documentation: https://pandas.pydata.org/pandas-docs/stable/user_guide/indexing.html#returning-a-view-versus-a-copy\n",
      "  data['MarketCap'] = data['Close'] * data['Volume']  # Calculate Market Cap\n",
      "/var/folders/0p/fxg5ckl91l97lc30f5yd7h840000gn/T/ipykernel_38522/3667413636.py:34: SettingWithCopyWarning: \n",
      "A value is trying to be set on a copy of a slice from a DataFrame.\n",
      "Try using .loc[row_indexer,col_indexer] = value instead\n",
      "\n",
      "See the caveats in the documentation: https://pandas.pydata.org/pandas-docs/stable/user_guide/indexing.html#returning-a-view-versus-a-copy\n",
      "  data['MarketCap'] = data['Close'] * data['Volume']  # Calculate Market Cap\n"
     ]
    },
    {
     "name": "stdout",
     "output_type": "stream",
     "text": [
      "[*********************100%%**********************]  1 of 1 completed\n",
      "Fetching data for XLV...\n",
      "[*********************100%%**********************]  1 of 1 completed\n",
      "Fetching data for XLI...\n"
     ]
    },
    {
     "name": "stderr",
     "output_type": "stream",
     "text": [
      "/var/folders/0p/fxg5ckl91l97lc30f5yd7h840000gn/T/ipykernel_38522/3667413636.py:34: SettingWithCopyWarning: \n",
      "A value is trying to be set on a copy of a slice from a DataFrame.\n",
      "Try using .loc[row_indexer,col_indexer] = value instead\n",
      "\n",
      "See the caveats in the documentation: https://pandas.pydata.org/pandas-docs/stable/user_guide/indexing.html#returning-a-view-versus-a-copy\n",
      "  data['MarketCap'] = data['Close'] * data['Volume']  # Calculate Market Cap\n",
      "/var/folders/0p/fxg5ckl91l97lc30f5yd7h840000gn/T/ipykernel_38522/3667413636.py:34: SettingWithCopyWarning: \n",
      "A value is trying to be set on a copy of a slice from a DataFrame.\n",
      "Try using .loc[row_indexer,col_indexer] = value instead\n",
      "\n",
      "See the caveats in the documentation: https://pandas.pydata.org/pandas-docs/stable/user_guide/indexing.html#returning-a-view-versus-a-copy\n",
      "  data['MarketCap'] = data['Close'] * data['Volume']  # Calculate Market Cap\n"
     ]
    },
    {
     "name": "stdout",
     "output_type": "stream",
     "text": [
      "[*********************100%%**********************]  1 of 1 completed\n",
      "Fetching data for XLB...\n",
      "[*********************100%%**********************]  1 of 1 completed\n",
      "Fetching data for XLRE...\n"
     ]
    },
    {
     "name": "stderr",
     "output_type": "stream",
     "text": [
      "/var/folders/0p/fxg5ckl91l97lc30f5yd7h840000gn/T/ipykernel_38522/3667413636.py:34: SettingWithCopyWarning: \n",
      "A value is trying to be set on a copy of a slice from a DataFrame.\n",
      "Try using .loc[row_indexer,col_indexer] = value instead\n",
      "\n",
      "See the caveats in the documentation: https://pandas.pydata.org/pandas-docs/stable/user_guide/indexing.html#returning-a-view-versus-a-copy\n",
      "  data['MarketCap'] = data['Close'] * data['Volume']  # Calculate Market Cap\n",
      "/var/folders/0p/fxg5ckl91l97lc30f5yd7h840000gn/T/ipykernel_38522/3667413636.py:34: SettingWithCopyWarning: \n",
      "A value is trying to be set on a copy of a slice from a DataFrame.\n",
      "Try using .loc[row_indexer,col_indexer] = value instead\n",
      "\n",
      "See the caveats in the documentation: https://pandas.pydata.org/pandas-docs/stable/user_guide/indexing.html#returning-a-view-versus-a-copy\n",
      "  data['MarketCap'] = data['Close'] * data['Volume']  # Calculate Market Cap\n"
     ]
    },
    {
     "name": "stdout",
     "output_type": "stream",
     "text": [
      "[*********************100%%**********************]  1 of 1 completed\n",
      "Fetching data for XLK...\n",
      "[*********************100%%**********************]  1 of 1 completed\n",
      "Fetching data for XLU...\n"
     ]
    },
    {
     "name": "stderr",
     "output_type": "stream",
     "text": [
      "/var/folders/0p/fxg5ckl91l97lc30f5yd7h840000gn/T/ipykernel_38522/3667413636.py:34: SettingWithCopyWarning: \n",
      "A value is trying to be set on a copy of a slice from a DataFrame.\n",
      "Try using .loc[row_indexer,col_indexer] = value instead\n",
      "\n",
      "See the caveats in the documentation: https://pandas.pydata.org/pandas-docs/stable/user_guide/indexing.html#returning-a-view-versus-a-copy\n",
      "  data['MarketCap'] = data['Close'] * data['Volume']  # Calculate Market Cap\n",
      "/var/folders/0p/fxg5ckl91l97lc30f5yd7h840000gn/T/ipykernel_38522/3667413636.py:34: SettingWithCopyWarning: \n",
      "A value is trying to be set on a copy of a slice from a DataFrame.\n",
      "Try using .loc[row_indexer,col_indexer] = value instead\n",
      "\n",
      "See the caveats in the documentation: https://pandas.pydata.org/pandas-docs/stable/user_guide/indexing.html#returning-a-view-versus-a-copy\n",
      "  data['MarketCap'] = data['Close'] * data['Volume']  # Calculate Market Cap\n"
     ]
    },
    {
     "name": "stdout",
     "output_type": "stream",
     "text": [
      "[*********************100%%**********************]  1 of 1 completed\n",
      "Fetching data for PSCD...\n",
      "[*********************100%%**********************]  1 of 1 completed\n",
      "Fetching data for PSCC...\n"
     ]
    },
    {
     "name": "stderr",
     "output_type": "stream",
     "text": [
      "/var/folders/0p/fxg5ckl91l97lc30f5yd7h840000gn/T/ipykernel_38522/3667413636.py:34: SettingWithCopyWarning: \n",
      "A value is trying to be set on a copy of a slice from a DataFrame.\n",
      "Try using .loc[row_indexer,col_indexer] = value instead\n",
      "\n",
      "See the caveats in the documentation: https://pandas.pydata.org/pandas-docs/stable/user_guide/indexing.html#returning-a-view-versus-a-copy\n",
      "  data['MarketCap'] = data['Close'] * data['Volume']  # Calculate Market Cap\n",
      "/var/folders/0p/fxg5ckl91l97lc30f5yd7h840000gn/T/ipykernel_38522/3667413636.py:34: SettingWithCopyWarning: \n",
      "A value is trying to be set on a copy of a slice from a DataFrame.\n",
      "Try using .loc[row_indexer,col_indexer] = value instead\n",
      "\n",
      "See the caveats in the documentation: https://pandas.pydata.org/pandas-docs/stable/user_guide/indexing.html#returning-a-view-versus-a-copy\n",
      "  data['MarketCap'] = data['Close'] * data['Volume']  # Calculate Market Cap\n"
     ]
    },
    {
     "name": "stdout",
     "output_type": "stream",
     "text": [
      "[*********************100%%**********************]  1 of 1 completed\n",
      "Fetching data for PSCE...\n",
      "[*********************100%%**********************]  1 of 1 completed\n",
      "Fetching data for PSCF...\n"
     ]
    },
    {
     "name": "stderr",
     "output_type": "stream",
     "text": [
      "/var/folders/0p/fxg5ckl91l97lc30f5yd7h840000gn/T/ipykernel_38522/3667413636.py:34: SettingWithCopyWarning: \n",
      "A value is trying to be set on a copy of a slice from a DataFrame.\n",
      "Try using .loc[row_indexer,col_indexer] = value instead\n",
      "\n",
      "See the caveats in the documentation: https://pandas.pydata.org/pandas-docs/stable/user_guide/indexing.html#returning-a-view-versus-a-copy\n",
      "  data['MarketCap'] = data['Close'] * data['Volume']  # Calculate Market Cap\n",
      "/var/folders/0p/fxg5ckl91l97lc30f5yd7h840000gn/T/ipykernel_38522/3667413636.py:34: SettingWithCopyWarning: \n",
      "A value is trying to be set on a copy of a slice from a DataFrame.\n",
      "Try using .loc[row_indexer,col_indexer] = value instead\n",
      "\n",
      "See the caveats in the documentation: https://pandas.pydata.org/pandas-docs/stable/user_guide/indexing.html#returning-a-view-versus-a-copy\n",
      "  data['MarketCap'] = data['Close'] * data['Volume']  # Calculate Market Cap\n"
     ]
    },
    {
     "name": "stdout",
     "output_type": "stream",
     "text": [
      "[*********************100%%**********************]  1 of 1 completed\n",
      "Fetching data for PSCH...\n",
      "[*********************100%%**********************]  1 of 1 completed\n",
      "Fetching data for PSCI...\n"
     ]
    },
    {
     "name": "stderr",
     "output_type": "stream",
     "text": [
      "/var/folders/0p/fxg5ckl91l97lc30f5yd7h840000gn/T/ipykernel_38522/3667413636.py:34: SettingWithCopyWarning: \n",
      "A value is trying to be set on a copy of a slice from a DataFrame.\n",
      "Try using .loc[row_indexer,col_indexer] = value instead\n",
      "\n",
      "See the caveats in the documentation: https://pandas.pydata.org/pandas-docs/stable/user_guide/indexing.html#returning-a-view-versus-a-copy\n",
      "  data['MarketCap'] = data['Close'] * data['Volume']  # Calculate Market Cap\n",
      "/var/folders/0p/fxg5ckl91l97lc30f5yd7h840000gn/T/ipykernel_38522/3667413636.py:34: SettingWithCopyWarning: \n",
      "A value is trying to be set on a copy of a slice from a DataFrame.\n",
      "Try using .loc[row_indexer,col_indexer] = value instead\n",
      "\n",
      "See the caveats in the documentation: https://pandas.pydata.org/pandas-docs/stable/user_guide/indexing.html#returning-a-view-versus-a-copy\n",
      "  data['MarketCap'] = data['Close'] * data['Volume']  # Calculate Market Cap\n"
     ]
    },
    {
     "name": "stdout",
     "output_type": "stream",
     "text": [
      "[*********************100%%**********************]  1 of 1 completed\n",
      "Fetching data for PSCT...\n",
      "[*********************100%%**********************]  1 of 1 completed\n",
      "Fetching data for PSCM...\n"
     ]
    },
    {
     "name": "stderr",
     "output_type": "stream",
     "text": [
      "/var/folders/0p/fxg5ckl91l97lc30f5yd7h840000gn/T/ipykernel_38522/3667413636.py:34: SettingWithCopyWarning: \n",
      "A value is trying to be set on a copy of a slice from a DataFrame.\n",
      "Try using .loc[row_indexer,col_indexer] = value instead\n",
      "\n",
      "See the caveats in the documentation: https://pandas.pydata.org/pandas-docs/stable/user_guide/indexing.html#returning-a-view-versus-a-copy\n",
      "  data['MarketCap'] = data['Close'] * data['Volume']  # Calculate Market Cap\n",
      "/var/folders/0p/fxg5ckl91l97lc30f5yd7h840000gn/T/ipykernel_38522/3667413636.py:34: SettingWithCopyWarning: \n",
      "A value is trying to be set on a copy of a slice from a DataFrame.\n",
      "Try using .loc[row_indexer,col_indexer] = value instead\n",
      "\n",
      "See the caveats in the documentation: https://pandas.pydata.org/pandas-docs/stable/user_guide/indexing.html#returning-a-view-versus-a-copy\n",
      "  data['MarketCap'] = data['Close'] * data['Volume']  # Calculate Market Cap\n"
     ]
    },
    {
     "name": "stdout",
     "output_type": "stream",
     "text": [
      "[*********************100%%**********************]  1 of 1 completed\n",
      "Fetching data for PSCU...\n"
     ]
    },
    {
     "name": "stderr",
     "output_type": "stream",
     "text": [
      "/var/folders/0p/fxg5ckl91l97lc30f5yd7h840000gn/T/ipykernel_38522/3667413636.py:34: SettingWithCopyWarning: \n",
      "A value is trying to be set on a copy of a slice from a DataFrame.\n",
      "Try using .loc[row_indexer,col_indexer] = value instead\n",
      "\n",
      "See the caveats in the documentation: https://pandas.pydata.org/pandas-docs/stable/user_guide/indexing.html#returning-a-view-versus-a-copy\n",
      "  data['MarketCap'] = data['Close'] * data['Volume']  # Calculate Market Cap\n"
     ]
    },
    {
     "name": "stdout",
     "output_type": "stream",
     "text": [
      "[*********************100%%**********************]  1 of 1 completed\n",
      "Fetching data for KOMP...\n",
      "[*********************100%%**********************]  1 of 1 completed\n",
      "Fetching data for HAIL...\n"
     ]
    },
    {
     "name": "stderr",
     "output_type": "stream",
     "text": [
      "/var/folders/0p/fxg5ckl91l97lc30f5yd7h840000gn/T/ipykernel_38522/3667413636.py:34: SettingWithCopyWarning: \n",
      "A value is trying to be set on a copy of a slice from a DataFrame.\n",
      "Try using .loc[row_indexer,col_indexer] = value instead\n",
      "\n",
      "See the caveats in the documentation: https://pandas.pydata.org/pandas-docs/stable/user_guide/indexing.html#returning-a-view-versus-a-copy\n",
      "  data['MarketCap'] = data['Close'] * data['Volume']  # Calculate Market Cap\n",
      "/var/folders/0p/fxg5ckl91l97lc30f5yd7h840000gn/T/ipykernel_38522/3667413636.py:34: SettingWithCopyWarning: \n",
      "A value is trying to be set on a copy of a slice from a DataFrame.\n",
      "Try using .loc[row_indexer,col_indexer] = value instead\n",
      "\n",
      "See the caveats in the documentation: https://pandas.pydata.org/pandas-docs/stable/user_guide/indexing.html#returning-a-view-versus-a-copy\n",
      "  data['MarketCap'] = data['Close'] * data['Volume']  # Calculate Market Cap\n"
     ]
    },
    {
     "name": "stdout",
     "output_type": "stream",
     "text": [
      "[*********************100%%**********************]  1 of 1 completed\n",
      "Fetching data for FITE...\n",
      "[*********************100%%**********************]  1 of 1 completed\n",
      "Fetching data for SIMS...\n"
     ]
    },
    {
     "name": "stderr",
     "output_type": "stream",
     "text": [
      "/var/folders/0p/fxg5ckl91l97lc30f5yd7h840000gn/T/ipykernel_38522/3667413636.py:34: SettingWithCopyWarning: \n",
      "A value is trying to be set on a copy of a slice from a DataFrame.\n",
      "Try using .loc[row_indexer,col_indexer] = value instead\n",
      "\n",
      "See the caveats in the documentation: https://pandas.pydata.org/pandas-docs/stable/user_guide/indexing.html#returning-a-view-versus-a-copy\n",
      "  data['MarketCap'] = data['Close'] * data['Volume']  # Calculate Market Cap\n",
      "/var/folders/0p/fxg5ckl91l97lc30f5yd7h840000gn/T/ipykernel_38522/3667413636.py:34: SettingWithCopyWarning: \n",
      "A value is trying to be set on a copy of a slice from a DataFrame.\n",
      "Try using .loc[row_indexer,col_indexer] = value instead\n",
      "\n",
      "See the caveats in the documentation: https://pandas.pydata.org/pandas-docs/stable/user_guide/indexing.html#returning-a-view-versus-a-copy\n",
      "  data['MarketCap'] = data['Close'] * data['Volume']  # Calculate Market Cap\n"
     ]
    },
    {
     "name": "stdout",
     "output_type": "stream",
     "text": [
      "[*********************100%%**********************]  1 of 1 completed\n",
      "Fetching data for ROKT...\n",
      "[*********************100%%**********************]  1 of 1 completed\n",
      "Fetching data for CNRG...\n"
     ]
    },
    {
     "name": "stderr",
     "output_type": "stream",
     "text": [
      "/var/folders/0p/fxg5ckl91l97lc30f5yd7h840000gn/T/ipykernel_38522/3667413636.py:34: SettingWithCopyWarning: \n",
      "A value is trying to be set on a copy of a slice from a DataFrame.\n",
      "Try using .loc[row_indexer,col_indexer] = value instead\n",
      "\n",
      "See the caveats in the documentation: https://pandas.pydata.org/pandas-docs/stable/user_guide/indexing.html#returning-a-view-versus-a-copy\n",
      "  data['MarketCap'] = data['Close'] * data['Volume']  # Calculate Market Cap\n",
      "/var/folders/0p/fxg5ckl91l97lc30f5yd7h840000gn/T/ipykernel_38522/3667413636.py:34: SettingWithCopyWarning: \n",
      "A value is trying to be set on a copy of a slice from a DataFrame.\n",
      "Try using .loc[row_indexer,col_indexer] = value instead\n",
      "\n",
      "See the caveats in the documentation: https://pandas.pydata.org/pandas-docs/stable/user_guide/indexing.html#returning-a-view-versus-a-copy\n",
      "  data['MarketCap'] = data['Close'] * data['Volume']  # Calculate Market Cap\n"
     ]
    },
    {
     "name": "stdout",
     "output_type": "stream",
     "text": [
      "[*********************100%%**********************]  1 of 1 completed\n",
      "Fetching data for MOON...\n",
      "[*********************100%%**********************]  1 of 1 completed\n",
      "Fetching data for CTEX...\n"
     ]
    },
    {
     "name": "stderr",
     "output_type": "stream",
     "text": [
      "/var/folders/0p/fxg5ckl91l97lc30f5yd7h840000gn/T/ipykernel_38522/3667413636.py:34: SettingWithCopyWarning: \n",
      "A value is trying to be set on a copy of a slice from a DataFrame.\n",
      "Try using .loc[row_indexer,col_indexer] = value instead\n",
      "\n",
      "See the caveats in the documentation: https://pandas.pydata.org/pandas-docs/stable/user_guide/indexing.html#returning-a-view-versus-a-copy\n",
      "  data['MarketCap'] = data['Close'] * data['Volume']  # Calculate Market Cap\n",
      "/var/folders/0p/fxg5ckl91l97lc30f5yd7h840000gn/T/ipykernel_38522/3667413636.py:34: SettingWithCopyWarning: \n",
      "A value is trying to be set on a copy of a slice from a DataFrame.\n",
      "Try using .loc[row_indexer,col_indexer] = value instead\n",
      "\n",
      "See the caveats in the documentation: https://pandas.pydata.org/pandas-docs/stable/user_guide/indexing.html#returning-a-view-versus-a-copy\n",
      "  data['MarketCap'] = data['Close'] * data['Volume']  # Calculate Market Cap\n"
     ]
    },
    {
     "name": "stdout",
     "output_type": "stream",
     "text": [
      "[*********************100%%**********************]  1 of 1 completed\n",
      "Fetching data for MAKX...\n",
      "[*********************100%%**********************]  1 of 1 completed\n",
      "Fetching data for VXX...\n"
     ]
    },
    {
     "name": "stderr",
     "output_type": "stream",
     "text": [
      "/var/folders/0p/fxg5ckl91l97lc30f5yd7h840000gn/T/ipykernel_38522/3667413636.py:34: SettingWithCopyWarning: \n",
      "A value is trying to be set on a copy of a slice from a DataFrame.\n",
      "Try using .loc[row_indexer,col_indexer] = value instead\n",
      "\n",
      "See the caveats in the documentation: https://pandas.pydata.org/pandas-docs/stable/user_guide/indexing.html#returning-a-view-versus-a-copy\n",
      "  data['MarketCap'] = data['Close'] * data['Volume']  # Calculate Market Cap\n",
      "/var/folders/0p/fxg5ckl91l97lc30f5yd7h840000gn/T/ipykernel_38522/3667413636.py:34: SettingWithCopyWarning: \n",
      "A value is trying to be set on a copy of a slice from a DataFrame.\n",
      "Try using .loc[row_indexer,col_indexer] = value instead\n",
      "\n",
      "See the caveats in the documentation: https://pandas.pydata.org/pandas-docs/stable/user_guide/indexing.html#returning-a-view-versus-a-copy\n",
      "  data['MarketCap'] = data['Close'] * data['Volume']  # Calculate Market Cap\n"
     ]
    },
    {
     "name": "stdout",
     "output_type": "stream",
     "text": [
      "[*********************100%%**********************]  1 of 1 completed\n",
      "Fetching data for VIXY...\n"
     ]
    },
    {
     "name": "stderr",
     "output_type": "stream",
     "text": [
      "/var/folders/0p/fxg5ckl91l97lc30f5yd7h840000gn/T/ipykernel_38522/3667413636.py:34: SettingWithCopyWarning: \n",
      "A value is trying to be set on a copy of a slice from a DataFrame.\n",
      "Try using .loc[row_indexer,col_indexer] = value instead\n",
      "\n",
      "See the caveats in the documentation: https://pandas.pydata.org/pandas-docs/stable/user_guide/indexing.html#returning-a-view-versus-a-copy\n",
      "  data['MarketCap'] = data['Close'] * data['Volume']  # Calculate Market Cap\n"
     ]
    },
    {
     "name": "stdout",
     "output_type": "stream",
     "text": [
      "[*********************100%%**********************]  1 of 1 completed\n",
      "Fetching data for VIXM...\n",
      "[*********************100%%**********************]  1 of 1 completed\n",
      "Fetching data for FJAN...\n"
     ]
    },
    {
     "name": "stderr",
     "output_type": "stream",
     "text": [
      "/var/folders/0p/fxg5ckl91l97lc30f5yd7h840000gn/T/ipykernel_38522/3667413636.py:34: SettingWithCopyWarning: \n",
      "A value is trying to be set on a copy of a slice from a DataFrame.\n",
      "Try using .loc[row_indexer,col_indexer] = value instead\n",
      "\n",
      "See the caveats in the documentation: https://pandas.pydata.org/pandas-docs/stable/user_guide/indexing.html#returning-a-view-versus-a-copy\n",
      "  data['MarketCap'] = data['Close'] * data['Volume']  # Calculate Market Cap\n",
      "/var/folders/0p/fxg5ckl91l97lc30f5yd7h840000gn/T/ipykernel_38522/3667413636.py:34: SettingWithCopyWarning: \n",
      "A value is trying to be set on a copy of a slice from a DataFrame.\n",
      "Try using .loc[row_indexer,col_indexer] = value instead\n",
      "\n",
      "See the caveats in the documentation: https://pandas.pydata.org/pandas-docs/stable/user_guide/indexing.html#returning-a-view-versus-a-copy\n",
      "  data['MarketCap'] = data['Close'] * data['Volume']  # Calculate Market Cap\n"
     ]
    },
    {
     "name": "stdout",
     "output_type": "stream",
     "text": [
      "[*********************100%%**********************]  1 of 1 completed\n",
      "Fetching data for DJAN...\n",
      "[*********************100%%**********************]  1 of 1 completed\n",
      "Fetching data for FFEB...\n"
     ]
    },
    {
     "name": "stderr",
     "output_type": "stream",
     "text": [
      "/var/folders/0p/fxg5ckl91l97lc30f5yd7h840000gn/T/ipykernel_38522/3667413636.py:34: SettingWithCopyWarning: \n",
      "A value is trying to be set on a copy of a slice from a DataFrame.\n",
      "Try using .loc[row_indexer,col_indexer] = value instead\n",
      "\n",
      "See the caveats in the documentation: https://pandas.pydata.org/pandas-docs/stable/user_guide/indexing.html#returning-a-view-versus-a-copy\n",
      "  data['MarketCap'] = data['Close'] * data['Volume']  # Calculate Market Cap\n",
      "/var/folders/0p/fxg5ckl91l97lc30f5yd7h840000gn/T/ipykernel_38522/3667413636.py:34: SettingWithCopyWarning: \n",
      "A value is trying to be set on a copy of a slice from a DataFrame.\n",
      "Try using .loc[row_indexer,col_indexer] = value instead\n",
      "\n",
      "See the caveats in the documentation: https://pandas.pydata.org/pandas-docs/stable/user_guide/indexing.html#returning-a-view-versus-a-copy\n",
      "  data['MarketCap'] = data['Close'] * data['Volume']  # Calculate Market Cap\n"
     ]
    },
    {
     "name": "stdout",
     "output_type": "stream",
     "text": [
      "[*********************100%%**********************]  1 of 1 completed\n",
      "Fetching data for DFEB...\n",
      "[*********************100%%**********************]  1 of 1 completed\n",
      "Fetching data for FMAR...\n"
     ]
    },
    {
     "name": "stderr",
     "output_type": "stream",
     "text": [
      "/var/folders/0p/fxg5ckl91l97lc30f5yd7h840000gn/T/ipykernel_38522/3667413636.py:34: SettingWithCopyWarning: \n",
      "A value is trying to be set on a copy of a slice from a DataFrame.\n",
      "Try using .loc[row_indexer,col_indexer] = value instead\n",
      "\n",
      "See the caveats in the documentation: https://pandas.pydata.org/pandas-docs/stable/user_guide/indexing.html#returning-a-view-versus-a-copy\n",
      "  data['MarketCap'] = data['Close'] * data['Volume']  # Calculate Market Cap\n",
      "/var/folders/0p/fxg5ckl91l97lc30f5yd7h840000gn/T/ipykernel_38522/3667413636.py:34: SettingWithCopyWarning: \n",
      "A value is trying to be set on a copy of a slice from a DataFrame.\n",
      "Try using .loc[row_indexer,col_indexer] = value instead\n",
      "\n",
      "See the caveats in the documentation: https://pandas.pydata.org/pandas-docs/stable/user_guide/indexing.html#returning-a-view-versus-a-copy\n",
      "  data['MarketCap'] = data['Close'] * data['Volume']  # Calculate Market Cap\n"
     ]
    },
    {
     "name": "stdout",
     "output_type": "stream",
     "text": [
      "[*********************100%%**********************]  1 of 1 completed\n",
      "Fetching data for DMAR...\n",
      "[*********************100%%**********************]  1 of 1 completed\n",
      "Fetching data for FAPR...\n"
     ]
    },
    {
     "name": "stderr",
     "output_type": "stream",
     "text": [
      "/var/folders/0p/fxg5ckl91l97lc30f5yd7h840000gn/T/ipykernel_38522/3667413636.py:34: SettingWithCopyWarning: \n",
      "A value is trying to be set on a copy of a slice from a DataFrame.\n",
      "Try using .loc[row_indexer,col_indexer] = value instead\n",
      "\n",
      "See the caveats in the documentation: https://pandas.pydata.org/pandas-docs/stable/user_guide/indexing.html#returning-a-view-versus-a-copy\n",
      "  data['MarketCap'] = data['Close'] * data['Volume']  # Calculate Market Cap\n",
      "/var/folders/0p/fxg5ckl91l97lc30f5yd7h840000gn/T/ipykernel_38522/3667413636.py:34: SettingWithCopyWarning: \n",
      "A value is trying to be set on a copy of a slice from a DataFrame.\n",
      "Try using .loc[row_indexer,col_indexer] = value instead\n",
      "\n",
      "See the caveats in the documentation: https://pandas.pydata.org/pandas-docs/stable/user_guide/indexing.html#returning-a-view-versus-a-copy\n",
      "  data['MarketCap'] = data['Close'] * data['Volume']  # Calculate Market Cap\n"
     ]
    },
    {
     "name": "stdout",
     "output_type": "stream",
     "text": [
      "[*********************100%%**********************]  1 of 1 completed\n",
      "Fetching data for DAPR...\n",
      "[*********************100%%**********************]  1 of 1 completed\n",
      "Fetching data for FMAY...\n"
     ]
    },
    {
     "name": "stderr",
     "output_type": "stream",
     "text": [
      "/var/folders/0p/fxg5ckl91l97lc30f5yd7h840000gn/T/ipykernel_38522/3667413636.py:34: SettingWithCopyWarning: \n",
      "A value is trying to be set on a copy of a slice from a DataFrame.\n",
      "Try using .loc[row_indexer,col_indexer] = value instead\n",
      "\n",
      "See the caveats in the documentation: https://pandas.pydata.org/pandas-docs/stable/user_guide/indexing.html#returning-a-view-versus-a-copy\n",
      "  data['MarketCap'] = data['Close'] * data['Volume']  # Calculate Market Cap\n",
      "/var/folders/0p/fxg5ckl91l97lc30f5yd7h840000gn/T/ipykernel_38522/3667413636.py:34: SettingWithCopyWarning: \n",
      "A value is trying to be set on a copy of a slice from a DataFrame.\n",
      "Try using .loc[row_indexer,col_indexer] = value instead\n",
      "\n",
      "See the caveats in the documentation: https://pandas.pydata.org/pandas-docs/stable/user_guide/indexing.html#returning-a-view-versus-a-copy\n",
      "  data['MarketCap'] = data['Close'] * data['Volume']  # Calculate Market Cap\n"
     ]
    },
    {
     "name": "stdout",
     "output_type": "stream",
     "text": [
      "[*********************100%%**********************]  1 of 1 completed\n",
      "Fetching data for DMAY...\n",
      "[*********************100%%**********************]  1 of 1 completed\n",
      "Fetching data for FJUN...\n"
     ]
    },
    {
     "name": "stderr",
     "output_type": "stream",
     "text": [
      "/var/folders/0p/fxg5ckl91l97lc30f5yd7h840000gn/T/ipykernel_38522/3667413636.py:34: SettingWithCopyWarning: \n",
      "A value is trying to be set on a copy of a slice from a DataFrame.\n",
      "Try using .loc[row_indexer,col_indexer] = value instead\n",
      "\n",
      "See the caveats in the documentation: https://pandas.pydata.org/pandas-docs/stable/user_guide/indexing.html#returning-a-view-versus-a-copy\n",
      "  data['MarketCap'] = data['Close'] * data['Volume']  # Calculate Market Cap\n",
      "/var/folders/0p/fxg5ckl91l97lc30f5yd7h840000gn/T/ipykernel_38522/3667413636.py:34: SettingWithCopyWarning: \n",
      "A value is trying to be set on a copy of a slice from a DataFrame.\n",
      "Try using .loc[row_indexer,col_indexer] = value instead\n",
      "\n",
      "See the caveats in the documentation: https://pandas.pydata.org/pandas-docs/stable/user_guide/indexing.html#returning-a-view-versus-a-copy\n",
      "  data['MarketCap'] = data['Close'] * data['Volume']  # Calculate Market Cap\n"
     ]
    },
    {
     "name": "stdout",
     "output_type": "stream",
     "text": [
      "[*********************100%%**********************]  1 of 1 completed\n",
      "Fetching data for DJUN...\n",
      "[*********************100%%**********************]  1 of 1 completed\n",
      "Fetching data for FJUL...\n"
     ]
    },
    {
     "name": "stderr",
     "output_type": "stream",
     "text": [
      "/var/folders/0p/fxg5ckl91l97lc30f5yd7h840000gn/T/ipykernel_38522/3667413636.py:34: SettingWithCopyWarning: \n",
      "A value is trying to be set on a copy of a slice from a DataFrame.\n",
      "Try using .loc[row_indexer,col_indexer] = value instead\n",
      "\n",
      "See the caveats in the documentation: https://pandas.pydata.org/pandas-docs/stable/user_guide/indexing.html#returning-a-view-versus-a-copy\n",
      "  data['MarketCap'] = data['Close'] * data['Volume']  # Calculate Market Cap\n",
      "/var/folders/0p/fxg5ckl91l97lc30f5yd7h840000gn/T/ipykernel_38522/3667413636.py:34: SettingWithCopyWarning: \n",
      "A value is trying to be set on a copy of a slice from a DataFrame.\n",
      "Try using .loc[row_indexer,col_indexer] = value instead\n",
      "\n",
      "See the caveats in the documentation: https://pandas.pydata.org/pandas-docs/stable/user_guide/indexing.html#returning-a-view-versus-a-copy\n",
      "  data['MarketCap'] = data['Close'] * data['Volume']  # Calculate Market Cap\n"
     ]
    },
    {
     "name": "stdout",
     "output_type": "stream",
     "text": [
      "[*********************100%%**********************]  1 of 1 completed\n",
      "Fetching data for DJUL...\n",
      "[*********************100%%**********************]  1 of 1 completed\n",
      "Fetching data for FAUG...\n"
     ]
    },
    {
     "name": "stderr",
     "output_type": "stream",
     "text": [
      "/var/folders/0p/fxg5ckl91l97lc30f5yd7h840000gn/T/ipykernel_38522/3667413636.py:34: SettingWithCopyWarning: \n",
      "A value is trying to be set on a copy of a slice from a DataFrame.\n",
      "Try using .loc[row_indexer,col_indexer] = value instead\n",
      "\n",
      "See the caveats in the documentation: https://pandas.pydata.org/pandas-docs/stable/user_guide/indexing.html#returning-a-view-versus-a-copy\n",
      "  data['MarketCap'] = data['Close'] * data['Volume']  # Calculate Market Cap\n",
      "/var/folders/0p/fxg5ckl91l97lc30f5yd7h840000gn/T/ipykernel_38522/3667413636.py:34: SettingWithCopyWarning: \n",
      "A value is trying to be set on a copy of a slice from a DataFrame.\n",
      "Try using .loc[row_indexer,col_indexer] = value instead\n",
      "\n",
      "See the caveats in the documentation: https://pandas.pydata.org/pandas-docs/stable/user_guide/indexing.html#returning-a-view-versus-a-copy\n",
      "  data['MarketCap'] = data['Close'] * data['Volume']  # Calculate Market Cap\n"
     ]
    },
    {
     "name": "stdout",
     "output_type": "stream",
     "text": [
      "[*********************100%%**********************]  1 of 1 completed\n",
      "Fetching data for DAUG...\n",
      "[*********************100%%**********************]  1 of 1 completed\n",
      "Fetching data for FSEP...\n"
     ]
    },
    {
     "name": "stderr",
     "output_type": "stream",
     "text": [
      "/var/folders/0p/fxg5ckl91l97lc30f5yd7h840000gn/T/ipykernel_38522/3667413636.py:34: SettingWithCopyWarning: \n",
      "A value is trying to be set on a copy of a slice from a DataFrame.\n",
      "Try using .loc[row_indexer,col_indexer] = value instead\n",
      "\n",
      "See the caveats in the documentation: https://pandas.pydata.org/pandas-docs/stable/user_guide/indexing.html#returning-a-view-versus-a-copy\n",
      "  data['MarketCap'] = data['Close'] * data['Volume']  # Calculate Market Cap\n",
      "/var/folders/0p/fxg5ckl91l97lc30f5yd7h840000gn/T/ipykernel_38522/3667413636.py:34: SettingWithCopyWarning: \n",
      "A value is trying to be set on a copy of a slice from a DataFrame.\n",
      "Try using .loc[row_indexer,col_indexer] = value instead\n",
      "\n",
      "See the caveats in the documentation: https://pandas.pydata.org/pandas-docs/stable/user_guide/indexing.html#returning-a-view-versus-a-copy\n",
      "  data['MarketCap'] = data['Close'] * data['Volume']  # Calculate Market Cap\n"
     ]
    },
    {
     "name": "stdout",
     "output_type": "stream",
     "text": [
      "[*********************100%%**********************]  1 of 1 completed\n",
      "Fetching data for DSEP...\n",
      "[*********************100%%**********************]  1 of 1 completed\n",
      "Fetching data for FOCT...\n"
     ]
    },
    {
     "name": "stderr",
     "output_type": "stream",
     "text": [
      "/var/folders/0p/fxg5ckl91l97lc30f5yd7h840000gn/T/ipykernel_38522/3667413636.py:34: SettingWithCopyWarning: \n",
      "A value is trying to be set on a copy of a slice from a DataFrame.\n",
      "Try using .loc[row_indexer,col_indexer] = value instead\n",
      "\n",
      "See the caveats in the documentation: https://pandas.pydata.org/pandas-docs/stable/user_guide/indexing.html#returning-a-view-versus-a-copy\n",
      "  data['MarketCap'] = data['Close'] * data['Volume']  # Calculate Market Cap\n",
      "/var/folders/0p/fxg5ckl91l97lc30f5yd7h840000gn/T/ipykernel_38522/3667413636.py:34: SettingWithCopyWarning: \n",
      "A value is trying to be set on a copy of a slice from a DataFrame.\n",
      "Try using .loc[row_indexer,col_indexer] = value instead\n",
      "\n",
      "See the caveats in the documentation: https://pandas.pydata.org/pandas-docs/stable/user_guide/indexing.html#returning-a-view-versus-a-copy\n",
      "  data['MarketCap'] = data['Close'] * data['Volume']  # Calculate Market Cap\n"
     ]
    },
    {
     "name": "stdout",
     "output_type": "stream",
     "text": [
      "[*********************100%%**********************]  1 of 1 completed\n",
      "Fetching data for DOCT...\n",
      "[*********************100%%**********************]  1 of 1 completed\n",
      "Fetching data for FNOV...\n"
     ]
    },
    {
     "name": "stderr",
     "output_type": "stream",
     "text": [
      "/var/folders/0p/fxg5ckl91l97lc30f5yd7h840000gn/T/ipykernel_38522/3667413636.py:34: SettingWithCopyWarning: \n",
      "A value is trying to be set on a copy of a slice from a DataFrame.\n",
      "Try using .loc[row_indexer,col_indexer] = value instead\n",
      "\n",
      "See the caveats in the documentation: https://pandas.pydata.org/pandas-docs/stable/user_guide/indexing.html#returning-a-view-versus-a-copy\n",
      "  data['MarketCap'] = data['Close'] * data['Volume']  # Calculate Market Cap\n",
      "/var/folders/0p/fxg5ckl91l97lc30f5yd7h840000gn/T/ipykernel_38522/3667413636.py:34: SettingWithCopyWarning: \n",
      "A value is trying to be set on a copy of a slice from a DataFrame.\n",
      "Try using .loc[row_indexer,col_indexer] = value instead\n",
      "\n",
      "See the caveats in the documentation: https://pandas.pydata.org/pandas-docs/stable/user_guide/indexing.html#returning-a-view-versus-a-copy\n",
      "  data['MarketCap'] = data['Close'] * data['Volume']  # Calculate Market Cap\n"
     ]
    },
    {
     "name": "stdout",
     "output_type": "stream",
     "text": [
      "[*********************100%%**********************]  1 of 1 completed\n",
      "Fetching data for DNOV...\n",
      "[*********************100%%**********************]  1 of 1 completed\n",
      "Fetching data for FDEC...\n"
     ]
    },
    {
     "name": "stderr",
     "output_type": "stream",
     "text": [
      "/var/folders/0p/fxg5ckl91l97lc30f5yd7h840000gn/T/ipykernel_38522/3667413636.py:34: SettingWithCopyWarning: \n",
      "A value is trying to be set on a copy of a slice from a DataFrame.\n",
      "Try using .loc[row_indexer,col_indexer] = value instead\n",
      "\n",
      "See the caveats in the documentation: https://pandas.pydata.org/pandas-docs/stable/user_guide/indexing.html#returning-a-view-versus-a-copy\n",
      "  data['MarketCap'] = data['Close'] * data['Volume']  # Calculate Market Cap\n",
      "/var/folders/0p/fxg5ckl91l97lc30f5yd7h840000gn/T/ipykernel_38522/3667413636.py:34: SettingWithCopyWarning: \n",
      "A value is trying to be set on a copy of a slice from a DataFrame.\n",
      "Try using .loc[row_indexer,col_indexer] = value instead\n",
      "\n",
      "See the caveats in the documentation: https://pandas.pydata.org/pandas-docs/stable/user_guide/indexing.html#returning-a-view-versus-a-copy\n",
      "  data['MarketCap'] = data['Close'] * data['Volume']  # Calculate Market Cap\n"
     ]
    },
    {
     "name": "stdout",
     "output_type": "stream",
     "text": [
      "[*********************100%%**********************]  1 of 1 completed\n",
      "Fetching data for DDEC...\n",
      "[*********************100%%**********************]  1 of 1 completed\n"
     ]
    },
    {
     "name": "stderr",
     "output_type": "stream",
     "text": [
      "/var/folders/0p/fxg5ckl91l97lc30f5yd7h840000gn/T/ipykernel_38522/3667413636.py:34: SettingWithCopyWarning: \n",
      "A value is trying to be set on a copy of a slice from a DataFrame.\n",
      "Try using .loc[row_indexer,col_indexer] = value instead\n",
      "\n",
      "See the caveats in the documentation: https://pandas.pydata.org/pandas-docs/stable/user_guide/indexing.html#returning-a-view-versus-a-copy\n",
      "  data['MarketCap'] = data['Close'] * data['Volume']  # Calculate Market Cap\n",
      "/var/folders/0p/fxg5ckl91l97lc30f5yd7h840000gn/T/ipykernel_38522/3667413636.py:34: SettingWithCopyWarning: \n",
      "A value is trying to be set on a copy of a slice from a DataFrame.\n",
      "Try using .loc[row_indexer,col_indexer] = value instead\n",
      "\n",
      "See the caveats in the documentation: https://pandas.pydata.org/pandas-docs/stable/user_guide/indexing.html#returning-a-view-versus-a-copy\n",
      "  data['MarketCap'] = data['Close'] * data['Volume']  # Calculate Market Cap\n",
      "/var/folders/0p/fxg5ckl91l97lc30f5yd7h840000gn/T/ipykernel_38522/3667413636.py:44: SettingWithCopyWarning: \n",
      "A value is trying to be set on a copy of a slice from a DataFrame.\n",
      "Try using .loc[row_indexer,col_indexer] = value instead\n",
      "\n",
      "See the caveats in the documentation: https://pandas.pydata.org/pandas-docs/stable/user_guide/indexing.html#returning-a-view-versus-a-copy\n",
      "  data['Ticker'] = ticker\n"
     ]
    },
    {
     "name": "stdout",
     "output_type": "stream",
     "text": [
      "Data successfully saved to 'human_managed_funds_with_market_cap.csv'.\n",
      "Ticker categories: {'Large-Cap': ['SPY'], 'Mid-Cap': ['HYG', 'IVV', 'LQD', 'VOO'], 'Small-Cap': ['AVMU', 'CATH', 'CGW', 'CNRG', 'CTEX', 'DAPR', 'DAUG', 'DDEC', 'DFEB', 'DFNM', 'DIA', 'DIVG', 'DJAN', 'DJUL', 'DJUN', 'DMAR', 'DMAY', 'DNOV', 'DOCT', 'DSEP', 'DVY', 'EFIV', 'ESIX', 'FAPR', 'FAUG', 'FDEC', 'FDM', 'FFEB', 'FITE', 'FJAN', 'FJUL', 'FJUN', 'FMAR', 'FMAY', 'FNOV', 'FOCT', 'FSEP', 'GRNB', 'HAIL', 'IBMM', 'IBMN', 'IBMO', 'IBMP', 'IBMQ', 'IBMR', 'ICLN', 'IJH', 'IJR', 'ISPY', 'ITOT', 'IVOO', 'IYY', 'KCCA', 'KEUA', 'KNGZ', 'KOMP', 'KRBN', 'LQDB', 'MAKX', 'MDY', 'MIDE', 'MOON', 'NOBL', 'OEF', 'PSCC', 'PSCD', 'PSCE', 'PSCF', 'PSCH', 'PSCI', 'PSCM', 'PSCT', 'PSCU', 'REGL', 'ROKT', 'RSPE', 'SCHA', 'SCHB', 'SCHD', 'SCHM', 'SCHX', 'SDY', 'SHYG', 'SIMS', 'SLQD', 'SMLE', 'SNPD', 'SNPE', 'SNPG', 'SNPV', 'SPDG', 'SPHD', 'SPLG', 'SPMD', 'SPSM', 'SPTM', 'SPYD', 'SPYX', 'TAXF', 'TDTF', 'TDTT', 'TDV', 'VIOO', 'VIXM', 'VIXY', 'VTEB', 'VXF', 'VXX', 'XJH', 'XJR', 'XLB', 'XLC', 'XLE', 'XLF', 'XLG', 'XLI', 'XLK', 'XLRE', 'XLU', 'XLV', 'XLY', 'XSHD', 'XVV']}\n",
      "Large-Cap: ['SPY']\n",
      "Mid-Cap: ['HYG', 'IVV', 'LQD', 'VOO']\n",
      "Small-Cap: ['AVMU', 'CATH', 'CGW', 'CNRG', 'CTEX', 'DAPR', 'DAUG', 'DDEC', 'DFEB', 'DFNM', 'DIA', 'DIVG', 'DJAN', 'DJUL', 'DJUN', 'DMAR', 'DMAY', 'DNOV', 'DOCT', 'DSEP', 'DVY', 'EFIV', 'ESIX', 'FAPR', 'FAUG', 'FDEC', 'FDM', 'FFEB', 'FITE', 'FJAN', 'FJUL', 'FJUN', 'FMAR', 'FMAY', 'FNOV', 'FOCT', 'FSEP', 'GRNB', 'HAIL', 'IBMM', 'IBMN', 'IBMO', 'IBMP', 'IBMQ', 'IBMR', 'ICLN', 'IJH', 'IJR', 'ISPY', 'ITOT', 'IVOO', 'IYY', 'KCCA', 'KEUA', 'KNGZ', 'KOMP', 'KRBN', 'LQDB', 'MAKX', 'MDY', 'MIDE', 'MOON', 'NOBL', 'OEF', 'PSCC', 'PSCD', 'PSCE', 'PSCF', 'PSCH', 'PSCI', 'PSCM', 'PSCT', 'PSCU', 'REGL', 'ROKT', 'RSPE', 'SCHA', 'SCHB', 'SCHD', 'SCHM', 'SCHX', 'SDY', 'SHYG', 'SIMS', 'SLQD', 'SMLE', 'SNPD', 'SNPE', 'SNPG', 'SNPV', 'SPDG', 'SPHD', 'SPLG', 'SPMD', 'SPSM', 'SPTM', 'SPYD', 'SPYX', 'TAXF', 'TDTF', 'TDTT', 'TDV', 'VIOO', 'VIXM', 'VIXY', 'VTEB', 'VXF', 'VXX', 'XJH', 'XJR', 'XLB', 'XLC', 'XLE', 'XLF', 'XLG', 'XLI', 'XLK', 'XLRE', 'XLU', 'XLV', 'XLY', 'XSHD', 'XVV']\n"
     ]
    }
   ],
   "source": [
    "import yfinance as yf\n",
    "import pandas as pd\n",
    "import numpy as np\n",
    "\n",
    "# Define the list of tickers\n",
    "tickers = [\n",
    "    \"ITOT\", \"IYY\", \"SCHB\", \"SPTM\", \"OEF\", \"XLG\", \"IVV\", \"SPY\", \"SPLG\", \"VOO\",\n",
    "    \"DIA\", \"SCHX\", \"IJH\", \"MDY\", \"SPMD\", \"IVOO\", \"SCHM\", \"VXF\", \"IJR\", \"SPSM\",\n",
    "    \"VIOO\", \"SCHA\", \"FDM\", \"SNPE\", \"EFIV\", \"RSPE\", \"XVV\", \"MIDE\", \"XJH\", \"SMLE\",\n",
    "    \"ESIX\", \"XJR\", \"SNPG\", \"SNPV\", \"SNPD\", \"SPYX\", \"ICLN\", \"CGW\", \"CATH\", \"GRNB\",\n",
    "    \"KRBN\", \"KCCA\", \"KEUA\", \"SCHD\", \"DVY\", \"ISPY\", \"NOBL\", \"DIVG\", \"SPYD\", \"SPHD\",\n",
    "    \"KNGZ\", \"SDY\", \"REGL\", \"XSHD\", \"SPDG\", \"TDV\", \"VTEB\", \"TAXF\", \"AVMU\", \"DFNM\",\n",
    "    \"IBMM\", \"IBMN\", \"IBMO\", \"IBMP\", \"IBMQ\", \"IBMR\", \"LQD\", \"SLQD\", \"LQDB\", \"HYG\",\n",
    "    \"SHYG\", \"TDTF\", \"TDTT\", \"XLC\", \"XLY\", \"XLE\", \"XLF\", \"XLV\", \"XLI\", \"XLB\", \"XLRE\",\n",
    "    \"XLK\", \"XLU\", \"PSCD\", \"PSCC\", \"PSCE\", \"PSCF\", \"PSCH\", \"PSCI\", \"PSCT\", \"PSCM\",\n",
    "    \"PSCU\", \"KOMP\", \"HAIL\", \"FITE\", \"SIMS\", \"ROKT\", \"CNRG\", \"MOON\", \"CTEX\", \"MAKX\",\n",
    "    \"VXX\", \"VIXY\", \"VIXM\", \"FJAN\", \"DJAN\", \"FFEB\", \"DFEB\", \"FMAR\", \"DMAR\", \"FAPR\",\n",
    "    \"DAPR\", \"FMAY\", \"DMAY\", \"FJUN\", \"DJUN\", \"FJUL\", \"DJUL\", \"FAUG\", \"DAUG\", \"FSEP\",\n",
    "    \"DSEP\", \"FOCT\", \"DOCT\", \"FNOV\", \"DNOV\", \"FDEC\", \"DDEC\"\n",
    "]\n",
    "\n",
    "# Define the date range\n",
    "start_date = \"2021-01-01\"\n",
    "end_date = \"2024-11-29\"\n",
    "\n",
    "# Fetch historical price and volume data for all tickers\n",
    "fund_data = {}\n",
    "print(\"Fetching historical data for all tickers...\")\n",
    "for ticker in tickers:\n",
    "    try:\n",
    "        print(f\"Fetching data for {ticker}...\")\n",
    "        data = yf.download(ticker, start=start_date, end=end_date)[['Close', 'Volume']]\n",
    "        if not data.empty:\n",
    "            data['MarketCap'] = data['Close'] * data['Volume']  # Calculate Market Cap\n",
    "            fund_data[ticker] = data\n",
    "        else:\n",
    "            print(f\"No historical data available for {ticker}.\")\n",
    "    except Exception as e:\n",
    "        print(f\"Failed to fetch data for {ticker}: {e}\")\n",
    "\n",
    "# Combine all data into a single DataFrame with an additional 'Ticker' column\n",
    "all_data = []\n",
    "for ticker, data in fund_data.items():\n",
    "    data['Ticker'] = ticker\n",
    "    all_data.append(data)\n",
    "human_fund = pd.concat(all_data)\n",
    "\n",
    "# Calculate average market cap for each ticker\n",
    "avg_market_cap = human_fund.groupby('Ticker')['MarketCap'].mean()\n",
    "\n",
    "# Categorize tickers based on average market cap\n",
    "categories = {\"Large-Cap\": [], \"Mid-Cap\": [], \"Small-Cap\": []}\n",
    "for ticker, market_cap in avg_market_cap.items():\n",
    "    if market_cap > 10e9:  # Large-Cap: Market Cap > $10B\n",
    "        categories[\"Large-Cap\"].append(ticker)\n",
    "    elif 2e9 <= market_cap <= 10e9:  # Mid-Cap: $2B <= Market Cap <= $10B\n",
    "        categories[\"Mid-Cap\"].append(ticker)\n",
    "    else:  # Small-Cap: Market Cap < $2B\n",
    "        categories[\"Small-Cap\"].append(ticker)\n",
    "\n",
    "# Save categorized tickers and historical data\n",
    "human_fund.to_csv(\"human_managed_funds_with_market_cap.csv\")\n",
    "print(f\"Data successfully saved to 'human_managed_funds_with_market_cap.csv'.\")\n",
    "print(f\"Ticker categories: {categories}\")\n",
    "\n",
    "# Preview categorized tickers\n",
    "for category, tickers_list in categories.items():\n",
    "    print(f\"{category}: {tickers_list}\")\n"
   ]
  },
  {
   "cell_type": "code",
   "execution_count": 14,
   "id": "d42f36f6",
   "metadata": {},
   "outputs": [
    {
     "data": {
      "text/html": [
       "<div>\n",
       "<style scoped>\n",
       "    .dataframe tbody tr th:only-of-type {\n",
       "        vertical-align: middle;\n",
       "    }\n",
       "\n",
       "    .dataframe tbody tr th {\n",
       "        vertical-align: top;\n",
       "    }\n",
       "\n",
       "    .dataframe thead th {\n",
       "        text-align: right;\n",
       "    }\n",
       "</style>\n",
       "<table border=\"1\" class=\"dataframe\">\n",
       "  <thead>\n",
       "    <tr style=\"text-align: right;\">\n",
       "      <th></th>\n",
       "      <th>Close</th>\n",
       "      <th>Volume</th>\n",
       "      <th>MarketCap</th>\n",
       "      <th>Ticker</th>\n",
       "    </tr>\n",
       "    <tr>\n",
       "      <th>Date</th>\n",
       "      <th></th>\n",
       "      <th></th>\n",
       "      <th></th>\n",
       "      <th></th>\n",
       "    </tr>\n",
       "  </thead>\n",
       "  <tbody>\n",
       "    <tr>\n",
       "      <th>2021-01-04</th>\n",
       "      <td>85.120003</td>\n",
       "      <td>3729600</td>\n",
       "      <td>3.174636e+08</td>\n",
       "      <td>ITOT</td>\n",
       "    </tr>\n",
       "    <tr>\n",
       "      <th>2021-01-05</th>\n",
       "      <td>85.760002</td>\n",
       "      <td>2234800</td>\n",
       "      <td>1.916565e+08</td>\n",
       "      <td>ITOT</td>\n",
       "    </tr>\n",
       "    <tr>\n",
       "      <th>2021-01-06</th>\n",
       "      <td>86.540001</td>\n",
       "      <td>1776300</td>\n",
       "      <td>1.537210e+08</td>\n",
       "      <td>ITOT</td>\n",
       "    </tr>\n",
       "    <tr>\n",
       "      <th>2021-01-07</th>\n",
       "      <td>87.860001</td>\n",
       "      <td>1109900</td>\n",
       "      <td>9.751581e+07</td>\n",
       "      <td>ITOT</td>\n",
       "    </tr>\n",
       "    <tr>\n",
       "      <th>2021-01-08</th>\n",
       "      <td>88.279999</td>\n",
       "      <td>1341300</td>\n",
       "      <td>1.184100e+08</td>\n",
       "      <td>ITOT</td>\n",
       "    </tr>\n",
       "    <tr>\n",
       "      <th>...</th>\n",
       "      <td>...</td>\n",
       "      <td>...</td>\n",
       "      <td>...</td>\n",
       "      <td>...</td>\n",
       "    </tr>\n",
       "    <tr>\n",
       "      <th>2024-11-21</th>\n",
       "      <td>40.035000</td>\n",
       "      <td>3700</td>\n",
       "      <td>1.481295e+05</td>\n",
       "      <td>DDEC</td>\n",
       "    </tr>\n",
       "    <tr>\n",
       "      <th>2024-11-22</th>\n",
       "      <td>40.044998</td>\n",
       "      <td>12000</td>\n",
       "      <td>4.805400e+05</td>\n",
       "      <td>DDEC</td>\n",
       "    </tr>\n",
       "    <tr>\n",
       "      <th>2024-11-25</th>\n",
       "      <td>40.063000</td>\n",
       "      <td>4600</td>\n",
       "      <td>1.842898e+05</td>\n",
       "      <td>DDEC</td>\n",
       "    </tr>\n",
       "    <tr>\n",
       "      <th>2024-11-26</th>\n",
       "      <td>40.090000</td>\n",
       "      <td>5500</td>\n",
       "      <td>2.204950e+05</td>\n",
       "      <td>DDEC</td>\n",
       "    </tr>\n",
       "    <tr>\n",
       "      <th>2024-11-27</th>\n",
       "      <td>40.097000</td>\n",
       "      <td>4000</td>\n",
       "      <td>1.603880e+05</td>\n",
       "      <td>DDEC</td>\n",
       "    </tr>\n",
       "  </tbody>\n",
       "</table>\n",
       "<p>119564 rows × 4 columns</p>\n",
       "</div>"
      ],
      "text/plain": [
       "                Close   Volume     MarketCap Ticker\n",
       "Date                                               \n",
       "2021-01-04  85.120003  3729600  3.174636e+08   ITOT\n",
       "2021-01-05  85.760002  2234800  1.916565e+08   ITOT\n",
       "2021-01-06  86.540001  1776300  1.537210e+08   ITOT\n",
       "2021-01-07  87.860001  1109900  9.751581e+07   ITOT\n",
       "2021-01-08  88.279999  1341300  1.184100e+08   ITOT\n",
       "...               ...      ...           ...    ...\n",
       "2024-11-21  40.035000     3700  1.481295e+05   DDEC\n",
       "2024-11-22  40.044998    12000  4.805400e+05   DDEC\n",
       "2024-11-25  40.063000     4600  1.842898e+05   DDEC\n",
       "2024-11-26  40.090000     5500  2.204950e+05   DDEC\n",
       "2024-11-27  40.097000     4000  1.603880e+05   DDEC\n",
       "\n",
       "[119564 rows x 4 columns]"
      ]
     },
     "execution_count": 14,
     "metadata": {},
     "output_type": "execute_result"
    }
   ],
   "source": [
    "human_fund"
   ]
  },
  {
   "cell_type": "code",
   "execution_count": 19,
   "id": "3f093287",
   "metadata": {},
   "outputs": [
    {
     "name": "stderr",
     "output_type": "stream",
     "text": [
      "/var/folders/0p/fxg5ckl91l97lc30f5yd7h840000gn/T/ipykernel_38522/1312342620.py:19: SettingWithCopyWarning: \n",
      "A value is trying to be set on a copy of a slice from a DataFrame.\n",
      "Try using .loc[row_indexer,col_indexer] = value instead\n",
      "\n",
      "See the caveats in the documentation: https://pandas.pydata.org/pandas-docs/stable/user_guide/indexing.html#returning-a-view-versus-a-copy\n",
      "  rf['DGS10'] = rf['DGS10'].interpolate()\n",
      "/var/folders/0p/fxg5ckl91l97lc30f5yd7h840000gn/T/ipykernel_38522/1312342620.py:22: FutureWarning: Series.fillna with 'method' is deprecated and will raise in a future version. Use obj.ffill() or obj.bfill() instead.\n",
      "  rf['DGS10'].fillna(method='ffill', inplace=True)  # Forward fill\n",
      "/var/folders/0p/fxg5ckl91l97lc30f5yd7h840000gn/T/ipykernel_38522/1312342620.py:22: SettingWithCopyWarning: \n",
      "A value is trying to be set on a copy of a slice from a DataFrame\n",
      "\n",
      "See the caveats in the documentation: https://pandas.pydata.org/pandas-docs/stable/user_guide/indexing.html#returning-a-view-versus-a-copy\n",
      "  rf['DGS10'].fillna(method='ffill', inplace=True)  # Forward fill\n",
      "/var/folders/0p/fxg5ckl91l97lc30f5yd7h840000gn/T/ipykernel_38522/1312342620.py:23: FutureWarning: Series.fillna with 'method' is deprecated and will raise in a future version. Use obj.ffill() or obj.bfill() instead.\n",
      "  rf['DGS10'].fillna(method='bfill', inplace=True)  # Backward fill (if no previous values)\n",
      "/var/folders/0p/fxg5ckl91l97lc30f5yd7h840000gn/T/ipykernel_38522/1312342620.py:23: SettingWithCopyWarning: \n",
      "A value is trying to be set on a copy of a slice from a DataFrame\n",
      "\n",
      "See the caveats in the documentation: https://pandas.pydata.org/pandas-docs/stable/user_guide/indexing.html#returning-a-view-versus-a-copy\n",
      "  rf['DGS10'].fillna(method='bfill', inplace=True)  # Backward fill (if no previous values)\n",
      "/var/folders/0p/fxg5ckl91l97lc30f5yd7h840000gn/T/ipykernel_38522/1312342620.py:26: SettingWithCopyWarning: \n",
      "A value is trying to be set on a copy of a slice from a DataFrame\n",
      "\n",
      "See the caveats in the documentation: https://pandas.pydata.org/pandas-docs/stable/user_guide/indexing.html#returning-a-view-versus-a-copy\n",
      "  rf.rename(columns={\"DATE\": \"Date\", \"DGS10\": \"RiskFreeRate\"}, inplace=True)\n",
      "/var/folders/0p/fxg5ckl91l97lc30f5yd7h840000gn/T/ipykernel_38522/1312342620.py:29: SettingWithCopyWarning: \n",
      "A value is trying to be set on a copy of a slice from a DataFrame.\n",
      "Try using .loc[row_indexer,col_indexer] = value instead\n",
      "\n",
      "See the caveats in the documentation: https://pandas.pydata.org/pandas-docs/stable/user_guide/indexing.html#returning-a-view-versus-a-copy\n",
      "  rf['RiskFreeRate'] = rf['RiskFreeRate'] / 100\n"
     ]
    },
    {
     "data": {
      "text/html": [
       "<div>\n",
       "<style scoped>\n",
       "    .dataframe tbody tr th:only-of-type {\n",
       "        vertical-align: middle;\n",
       "    }\n",
       "\n",
       "    .dataframe tbody tr th {\n",
       "        vertical-align: top;\n",
       "    }\n",
       "\n",
       "    .dataframe thead th {\n",
       "        text-align: right;\n",
       "    }\n",
       "</style>\n",
       "<table border=\"1\" class=\"dataframe\">\n",
       "  <thead>\n",
       "    <tr style=\"text-align: right;\">\n",
       "      <th></th>\n",
       "      <th>Date</th>\n",
       "      <th>RiskFreeRate</th>\n",
       "    </tr>\n",
       "  </thead>\n",
       "  <tbody>\n",
       "    <tr>\n",
       "      <th>284</th>\n",
       "      <td>2021-01-01</td>\n",
       "      <td>0.00930</td>\n",
       "    </tr>\n",
       "    <tr>\n",
       "      <th>285</th>\n",
       "      <td>2021-01-04</td>\n",
       "      <td>0.00930</td>\n",
       "    </tr>\n",
       "    <tr>\n",
       "      <th>286</th>\n",
       "      <td>2021-01-05</td>\n",
       "      <td>0.00960</td>\n",
       "    </tr>\n",
       "    <tr>\n",
       "      <th>287</th>\n",
       "      <td>2021-01-06</td>\n",
       "      <td>0.01040</td>\n",
       "    </tr>\n",
       "    <tr>\n",
       "      <th>288</th>\n",
       "      <td>2021-01-07</td>\n",
       "      <td>0.01080</td>\n",
       "    </tr>\n",
       "    <tr>\n",
       "      <th>...</th>\n",
       "      <td>...</td>\n",
       "      <td>...</td>\n",
       "    </tr>\n",
       "    <tr>\n",
       "      <th>1300</th>\n",
       "      <td>2024-11-25</td>\n",
       "      <td>0.04270</td>\n",
       "    </tr>\n",
       "    <tr>\n",
       "      <th>1301</th>\n",
       "      <td>2024-11-26</td>\n",
       "      <td>0.04300</td>\n",
       "    </tr>\n",
       "    <tr>\n",
       "      <th>1302</th>\n",
       "      <td>2024-11-27</td>\n",
       "      <td>0.04250</td>\n",
       "    </tr>\n",
       "    <tr>\n",
       "      <th>1303</th>\n",
       "      <td>2024-11-28</td>\n",
       "      <td>0.04215</td>\n",
       "    </tr>\n",
       "    <tr>\n",
       "      <th>1304</th>\n",
       "      <td>2024-11-29</td>\n",
       "      <td>0.04180</td>\n",
       "    </tr>\n",
       "  </tbody>\n",
       "</table>\n",
       "<p>1021 rows × 2 columns</p>\n",
       "</div>"
      ],
      "text/plain": [
       "           Date  RiskFreeRate\n",
       "284  2021-01-01       0.00930\n",
       "285  2021-01-04       0.00930\n",
       "286  2021-01-05       0.00960\n",
       "287  2021-01-06       0.01040\n",
       "288  2021-01-07       0.01080\n",
       "...         ...           ...\n",
       "1300 2024-11-25       0.04270\n",
       "1301 2024-11-26       0.04300\n",
       "1302 2024-11-27       0.04250\n",
       "1303 2024-11-28       0.04215\n",
       "1304 2024-11-29       0.04180\n",
       "\n",
       "[1021 rows x 2 columns]"
      ]
     },
     "execution_count": 19,
     "metadata": {},
     "output_type": "execute_result"
    }
   ],
   "source": [
    "# Load the risk-free rate data from the DGS10.csv file\n",
    "file_path = \"DGS10.csv\"  # Replace with the correct path if needed\n",
    "risk_free_data = pd.read_csv(file_path)\n",
    "\n",
    "# Convert the DATE column to datetime\n",
    "risk_free_data['DATE'] = pd.to_datetime(risk_free_data['DATE'])\n",
    "\n",
    "# Convert the DGS10 column to numeric (handles strings and potential errors)\n",
    "risk_free_data['DGS10'] = pd.to_numeric(risk_free_data['DGS10'], errors='coerce')\n",
    "\n",
    "# Filter data for the experiment period\n",
    "rf = risk_free_data[\n",
    "    (risk_free_data['DATE'] >= pd.to_datetime(start_date)) &\n",
    "    (risk_free_data['DATE'] <= pd.to_datetime(end_date))\n",
    "]\n",
    "\n",
    "# Handle missing data\n",
    "# Interpolate missing values (linear interpolation)\n",
    "rf['DGS10'] = rf['DGS10'].interpolate()\n",
    "\n",
    "# Fill any remaining NaN values at the edges\n",
    "rf['DGS10'].fillna(method='ffill', inplace=True)  # Forward fill\n",
    "rf['DGS10'].fillna(method='bfill', inplace=True)  # Backward fill (if no previous values)\n",
    "\n",
    "# Rename columns\n",
    "rf.rename(columns={\"DATE\": \"Date\", \"DGS10\": \"RiskFreeRate\"}, inplace=True)\n",
    "\n",
    "# Convert RiskFreeRate to decimal (percentage to fraction)\n",
    "rf['RiskFreeRate'] = rf['RiskFreeRate'] / 100\n",
    "\n",
    "# Save the cleaned data to a new file\n",
    "output_file = \"rf.csv\"\n",
    "rf.to_csv(output_file, index=False)\n",
    "\n",
    "\n",
    "rf"
   ]
  },
  {
   "cell_type": "code",
   "execution_count": 22,
   "id": "340ae9a7",
   "metadata": {},
   "outputs": [
    {
     "data": {
      "text/html": [
       "<div>\n",
       "<style scoped>\n",
       "    .dataframe tbody tr th:only-of-type {\n",
       "        vertical-align: middle;\n",
       "    }\n",
       "\n",
       "    .dataframe tbody tr th {\n",
       "        vertical-align: top;\n",
       "    }\n",
       "\n",
       "    .dataframe thead th {\n",
       "        text-align: right;\n",
       "    }\n",
       "</style>\n",
       "<table border=\"1\" class=\"dataframe\">\n",
       "  <thead>\n",
       "    <tr style=\"text-align: right;\">\n",
       "      <th></th>\n",
       "      <th>Annualized Return</th>\n",
       "      <th>Sharpe Ratio</th>\n",
       "      <th>Sortino Ratio</th>\n",
       "      <th>Treynor Ratio</th>\n",
       "      <th>Standard Deviation</th>\n",
       "      <th>Downside Deviation</th>\n",
       "      <th>Beta</th>\n",
       "    </tr>\n",
       "    <tr>\n",
       "      <th>Ticker</th>\n",
       "      <th></th>\n",
       "      <th></th>\n",
       "      <th></th>\n",
       "      <th></th>\n",
       "      <th></th>\n",
       "      <th></th>\n",
       "      <th></th>\n",
       "    </tr>\n",
       "  </thead>\n",
       "  <tbody>\n",
       "    <tr>\n",
       "      <th>AVMU</th>\n",
       "      <td>-0.017189</td>\n",
       "      <td>-66.046391</td>\n",
       "      <td>-92.414564</td>\n",
       "      <td>0.069627</td>\n",
       "      <td>0.035747</td>\n",
       "      <td>0.025547</td>\n",
       "      <td>-0.134557</td>\n",
       "    </tr>\n",
       "    <tr>\n",
       "      <th>CATH</th>\n",
       "      <td>0.146128</td>\n",
       "      <td>-12.527766</td>\n",
       "      <td>-17.675720</td>\n",
       "      <td>-0.035214</td>\n",
       "      <td>0.176183</td>\n",
       "      <td>0.124870</td>\n",
       "      <td>0.248726</td>\n",
       "    </tr>\n",
       "    <tr>\n",
       "      <th>CGW</th>\n",
       "      <td>0.080562</td>\n",
       "      <td>-13.035214</td>\n",
       "      <td>-20.699901</td>\n",
       "      <td>-0.078765</td>\n",
       "      <td>0.173845</td>\n",
       "      <td>0.109474</td>\n",
       "      <td>0.114169</td>\n",
       "    </tr>\n",
       "    <tr>\n",
       "      <th>CNRG</th>\n",
       "      <td>-0.072469</td>\n",
       "      <td>-6.976922</td>\n",
       "      <td>-11.983483</td>\n",
       "      <td>0.021797</td>\n",
       "      <td>0.346688</td>\n",
       "      <td>0.201846</td>\n",
       "      <td>-0.440367</td>\n",
       "    </tr>\n",
       "    <tr>\n",
       "      <th>CTEX</th>\n",
       "      <td>-0.088137</td>\n",
       "      <td>-9.021032</td>\n",
       "      <td>-16.721106</td>\n",
       "      <td>NaN</td>\n",
       "      <td>0.434834</td>\n",
       "      <td>0.234593</td>\n",
       "      <td>NaN</td>\n",
       "    </tr>\n",
       "    <tr>\n",
       "      <th>...</th>\n",
       "      <td>...</td>\n",
       "      <td>...</td>\n",
       "      <td>...</td>\n",
       "      <td>...</td>\n",
       "      <td>...</td>\n",
       "      <td>...</td>\n",
       "      <td>...</td>\n",
       "    </tr>\n",
       "    <tr>\n",
       "      <th>XLU</th>\n",
       "      <td>0.098169</td>\n",
       "      <td>-12.807297</td>\n",
       "      <td>-18.955091</td>\n",
       "      <td>0.068427</td>\n",
       "      <td>0.175676</td>\n",
       "      <td>0.118698</td>\n",
       "      <td>-0.130479</td>\n",
       "    </tr>\n",
       "    <tr>\n",
       "      <th>XLV</th>\n",
       "      <td>0.079999</td>\n",
       "      <td>-16.502280</td>\n",
       "      <td>-24.551118</td>\n",
       "      <td>2.205915</td>\n",
       "      <td>0.137352</td>\n",
       "      <td>0.092323</td>\n",
       "      <td>-0.004077</td>\n",
       "    </tr>\n",
       "    <tr>\n",
       "      <th>XLY</th>\n",
       "      <td>0.117391</td>\n",
       "      <td>-9.390253</td>\n",
       "      <td>-13.322048</td>\n",
       "      <td>0.108639</td>\n",
       "      <td>0.237755</td>\n",
       "      <td>0.167585</td>\n",
       "      <td>-0.081549</td>\n",
       "    </tr>\n",
       "    <tr>\n",
       "      <th>XSHD</th>\n",
       "      <td>-0.040269</td>\n",
       "      <td>-11.933070</td>\n",
       "      <td>-19.096723</td>\n",
       "      <td>0.007208</td>\n",
       "      <td>0.199839</td>\n",
       "      <td>0.124875</td>\n",
       "      <td>-1.312946</td>\n",
       "    </tr>\n",
       "    <tr>\n",
       "      <th>XVV</th>\n",
       "      <td>0.151163</td>\n",
       "      <td>-12.829762</td>\n",
       "      <td>-18.112412</td>\n",
       "      <td>-0.024928</td>\n",
       "      <td>0.171694</td>\n",
       "      <td>0.121618</td>\n",
       "      <td>0.350663</td>\n",
       "    </tr>\n",
       "  </tbody>\n",
       "</table>\n",
       "<p>128 rows × 7 columns</p>\n",
       "</div>"
      ],
      "text/plain": [
       "        Annualized Return  Sharpe Ratio  Sortino Ratio  Treynor Ratio  \\\n",
       "Ticker                                                                  \n",
       "AVMU            -0.017189    -66.046391     -92.414564       0.069627   \n",
       "CATH             0.146128    -12.527766     -17.675720      -0.035214   \n",
       "CGW              0.080562    -13.035214     -20.699901      -0.078765   \n",
       "CNRG            -0.072469     -6.976922     -11.983483       0.021797   \n",
       "CTEX            -0.088137     -9.021032     -16.721106            NaN   \n",
       "...                   ...           ...            ...            ...   \n",
       "XLU              0.098169    -12.807297     -18.955091       0.068427   \n",
       "XLV              0.079999    -16.502280     -24.551118       2.205915   \n",
       "XLY              0.117391     -9.390253     -13.322048       0.108639   \n",
       "XSHD            -0.040269    -11.933070     -19.096723       0.007208   \n",
       "XVV              0.151163    -12.829762     -18.112412      -0.024928   \n",
       "\n",
       "        Standard Deviation  Downside Deviation      Beta  \n",
       "Ticker                                                    \n",
       "AVMU              0.035747            0.025547 -0.134557  \n",
       "CATH              0.176183            0.124870  0.248726  \n",
       "CGW               0.173845            0.109474  0.114169  \n",
       "CNRG              0.346688            0.201846 -0.440367  \n",
       "CTEX              0.434834            0.234593       NaN  \n",
       "...                    ...                 ...       ...  \n",
       "XLU               0.175676            0.118698 -0.130479  \n",
       "XLV               0.137352            0.092323 -0.004077  \n",
       "XLY               0.237755            0.167585 -0.081549  \n",
       "XSHD              0.199839            0.124875 -1.312946  \n",
       "XVV               0.171694            0.121618  0.350663  \n",
       "\n",
       "[128 rows x 7 columns]"
      ]
     },
     "execution_count": 22,
     "metadata": {},
     "output_type": "execute_result"
    }
   ],
   "source": [
    "# Merge fund data with risk-free rate\n",
    "fund_data = pd.merge(human_fund, rf, on='Date', how='inner')\n",
    "\n",
    "# Calculate daily returns\n",
    "fund_data['DailyReturn'] = fund_data.groupby('Ticker')['Close'].pct_change()\n",
    "\n",
    "# Metrics calculation function\n",
    "def calculate_metrics(group):\n",
    "    metrics = {}\n",
    "    daily_returns = group['DailyReturn'].dropna()\n",
    "    risk_free_rate = group['RiskFreeRate'].iloc[0]  # Assuming constant risk-free rate for simplicity\n",
    "    excess_returns = daily_returns - risk_free_rate\n",
    "\n",
    "    # Return indicators\n",
    "    metrics['Annualized Return'] = (1 + daily_returns.mean()) ** 252 - 1\n",
    "    metrics['Sharpe Ratio'] = (excess_returns.mean() / daily_returns.std() * np.sqrt(252)) if daily_returns.std() else np.nan\n",
    "    downside_std = daily_returns[daily_returns < 0].std()\n",
    "    metrics['Sortino Ratio'] = (excess_returns.mean() / downside_std * np.sqrt(252)) if downside_std else np.nan\n",
    "    beta = (\n",
    "        np.cov(daily_returns, [risk_free_rate] * len(daily_returns))[0, 1]\n",
    "        / np.var([risk_free_rate] * len(daily_returns))\n",
    "        if np.var([risk_free_rate] * len(daily_returns)) != 0 else np.nan\n",
    "    )\n",
    "    metrics['Treynor Ratio'] = (excess_returns.mean() / beta) if beta else np.nan\n",
    "\n",
    "    # Risk indicators\n",
    "    metrics['Standard Deviation'] = daily_returns.std() * np.sqrt(252)\n",
    "    metrics['Downside Deviation'] = downside_std * np.sqrt(252) if downside_std else np.nan\n",
    "    metrics['Beta'] = beta\n",
    "\n",
    "    return pd.Series(metrics)\n",
    "\n",
    "# Group by Ticker and calculate metrics\n",
    "fund_metrics = fund_data.groupby('Ticker').apply(calculate_metrics)\n",
    "\n",
    "# Save metrics to CSV\n",
    "output_file = \"human_managed_fund_metrics.csv\"\n",
    "fund_metrics.to_csv(output_file)\n",
    "\n",
    "fund_metrics"
   ]
  },
  {
   "cell_type": "code",
   "execution_count": 26,
   "id": "a9c64c04",
   "metadata": {},
   "outputs": [
    {
     "name": "stdout",
     "output_type": "stream",
     "text": [
      "Processing Large-Cap funds...\n",
      "Processing Mid-Cap funds...\n",
      "Processing Small-Cap funds...\n"
     ]
    },
    {
     "data": {
      "text/html": [
       "<div>\n",
       "<style scoped>\n",
       "    .dataframe tbody tr th:only-of-type {\n",
       "        vertical-align: middle;\n",
       "    }\n",
       "\n",
       "    .dataframe tbody tr th {\n",
       "        vertical-align: top;\n",
       "    }\n",
       "\n",
       "    .dataframe thead th {\n",
       "        text-align: right;\n",
       "    }\n",
       "</style>\n",
       "<table border=\"1\" class=\"dataframe\">\n",
       "  <thead>\n",
       "    <tr style=\"text-align: right;\">\n",
       "      <th></th>\n",
       "      <th>Annualized Return</th>\n",
       "      <th>Sharpe Ratio</th>\n",
       "      <th>Sortino Ratio</th>\n",
       "      <th>Treynor Ratio</th>\n",
       "      <th>Standard Deviation</th>\n",
       "      <th>Downside Deviation</th>\n",
       "      <th>Beta</th>\n",
       "    </tr>\n",
       "  </thead>\n",
       "  <tbody>\n",
       "    <tr>\n",
       "      <th>Large-Cap</th>\n",
       "      <td>14.815320</td>\n",
       "      <td>-13.291439</td>\n",
       "      <td>-18.799029</td>\n",
       "      <td>-0.020638</td>\n",
       "      <td>16.592690</td>\n",
       "      <td>11.731496</td>\n",
       "      <td>0.424057</td>\n",
       "    </tr>\n",
       "    <tr>\n",
       "      <th>Mid-Cap</th>\n",
       "      <td>5.642573</td>\n",
       "      <td>-20.537787</td>\n",
       "      <td>-29.563365</td>\n",
       "      <td>0.034125</td>\n",
       "      <td>12.567979</td>\n",
       "      <td>8.815258</td>\n",
       "      <td>0.015291</td>\n",
       "    </tr>\n",
       "    <tr>\n",
       "      <th>Small-Cap</th>\n",
       "      <td>7.466817</td>\n",
       "      <td>-28.839926</td>\n",
       "      <td>-40.893893</td>\n",
       "      <td>-0.016930</td>\n",
       "      <td>17.400240</td>\n",
       "      <td>11.506690</td>\n",
       "      <td>0.096601</td>\n",
       "    </tr>\n",
       "  </tbody>\n",
       "</table>\n",
       "</div>"
      ],
      "text/plain": [
       "           Annualized Return  Sharpe Ratio  Sortino Ratio  Treynor Ratio  \\\n",
       "Large-Cap          14.815320    -13.291439     -18.799029      -0.020638   \n",
       "Mid-Cap             5.642573    -20.537787     -29.563365       0.034125   \n",
       "Small-Cap           7.466817    -28.839926     -40.893893      -0.016930   \n",
       "\n",
       "           Standard Deviation  Downside Deviation      Beta  \n",
       "Large-Cap           16.592690           11.731496  0.424057  \n",
       "Mid-Cap             12.567979            8.815258  0.015291  \n",
       "Small-Cap           17.400240           11.506690  0.096601  "
      ]
     },
     "execution_count": 26,
     "metadata": {},
     "output_type": "execute_result"
    }
   ],
   "source": [
    "from scipy.optimize import minimize\n",
    "\n",
    "# Merge human_fund with risk-free rate\n",
    "fund_data = pd.merge(human_fund, rf, on='Date', how='inner')\n",
    "\n",
    "# Calculate daily returns\n",
    "fund_data['DailyReturn'] = fund_data.groupby('Ticker')['Close'].pct_change()\n",
    "\n",
    "# Metrics calculation function\n",
    "def calculate_metrics(group):\n",
    "    metrics = {}\n",
    "    daily_returns = group['DailyReturn'].dropna()\n",
    "    risk_free_rate = group['RiskFreeRate'].iloc[0]  # Assuming constant risk-free rate for simplicity\n",
    "    excess_returns = daily_returns - risk_free_rate\n",
    "\n",
    "    # Return indicators\n",
    "    metrics['Annualized Return'] = (1 + daily_returns.mean()) ** 252 - 1\n",
    "    metrics['Sharpe Ratio'] = (excess_returns.mean() / daily_returns.std() * np.sqrt(252)) if daily_returns.std() else np.nan\n",
    "    downside_std = daily_returns[daily_returns < 0].std()\n",
    "    metrics['Sortino Ratio'] = (excess_returns.mean() / downside_std * np.sqrt(252)) if downside_std else np.nan\n",
    "    beta = (\n",
    "        np.cov(daily_returns, [risk_free_rate] * len(daily_returns))[0, 1]\n",
    "        / np.var([risk_free_rate] * len(daily_returns))\n",
    "        if np.var([risk_free_rate] * len(daily_returns)) != 0 else np.nan\n",
    "    )\n",
    "    metrics['Treynor Ratio'] = (excess_returns.mean() / beta) if beta else np.nan\n",
    "\n",
    "    # Risk indicators\n",
    "    metrics['Standard Deviation'] = daily_returns.std() * np.sqrt(252)\n",
    "    metrics['Downside Deviation'] = downside_std * np.sqrt(252) if downside_std else np.nan\n",
    "    metrics['Beta'] = beta\n",
    "\n",
    "    return pd.Series(metrics)\n",
    "\n",
    "# Aggregate metrics by category\n",
    "category_metrics = {}\n",
    "\n",
    "for category, tickers_list in categories.items():\n",
    "    print(f\"Processing {category} funds...\")\n",
    "    category_data = fund_data[fund_data['Ticker'].isin(tickers_list)]\n",
    "    \n",
    "    # Calculate metrics for each fund and average them within the category\n",
    "    metrics = category_data.groupby('Ticker').apply(calculate_metrics)\n",
    "    category_metrics[category] = metrics.mean()  # Average metrics for the category\n",
    "\n",
    "# Create a consolidated DataFrame\n",
    "metrics_df = pd.DataFrame(category_metrics).T\n",
    "\n",
    "# Format percentages for readability\n",
    "metrics_df['Annualized Return'] *= 100\n",
    "metrics_df['Standard Deviation'] *= 100\n",
    "metrics_df['Downside Deviation'] *= 100\n",
    "\n",
    "# Save the consolidated metrics to a CSV file\n",
    "metrics_df.to_csv(\"category_fund_metrics.csv\", float_format=\"%.2f\")\n",
    "\n",
    "metrics_df"
   ]
  },
  {
   "cell_type": "code",
   "execution_count": null,
   "id": "c703b8a2",
   "metadata": {},
   "outputs": [],
   "source": []
  }
 ],
 "metadata": {
  "kernelspec": {
   "display_name": "Python 3 (ipykernel)",
   "language": "python",
   "name": "python3"
  },
  "language_info": {
   "codemirror_mode": {
    "name": "ipython",
    "version": 3
   },
   "file_extension": ".py",
   "mimetype": "text/x-python",
   "name": "python",
   "nbconvert_exporter": "python",
   "pygments_lexer": "ipython3",
   "version": "3.11.5"
  }
 },
 "nbformat": 4,
 "nbformat_minor": 5
}
