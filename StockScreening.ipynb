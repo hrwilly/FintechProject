{
 "cells": [
  {
   "cell_type": "code",
   "execution_count": 1,
   "id": "a4db7be1-a3b7-43c3-81c6-70899f1aa21c",
   "metadata": {},
   "outputs": [],
   "source": [
    "import pandas as pd\n",
    "import numpy as np\n",
    "import pickle"
   ]
  },
  {
   "cell_type": "code",
   "execution_count": 29,
   "id": "e33ad7b2-dae1-4d5f-9d8f-4a8053f6a508",
   "metadata": {},
   "outputs": [],
   "source": [
    "with open(\"ticker_data_augmented.pkl\", \"rb\") as file:\n",
    "    loaded_data = pickle.load(file)\n",
    "\n",
    "stocks = list(loaded_data.keys())[:-1]"
   ]
  },
  {
   "cell_type": "code",
   "execution_count": 30,
   "id": "4ccd84a8-ee30-40dc-bcff-a2cfaf5b5f6f",
   "metadata": {},
   "outputs": [],
   "source": [
    "caps_threshold = {\n",
    "    'Risk' : [1, 2, 3],\n",
    "    'Threshold' : [10000000000, 2000000000, 250000000]\n",
    "}\n",
    "\n",
    "mkt_caps = {}\n",
    "\n",
    "for stock in stocks:\n",
    "    mkt_cap = loaded_data[stock].mean()['Market_Cap']\n",
    "    for i, threshold in enumerate(caps_threshold['Threshold'], start=1):\n",
    "        if mkt_cap >= threshold:\n",
    "            mkt_caps[stock] = i\n",
    "            break\n",
    "    else: mkt_caps[stock] = 4"
   ]
  },
  {
   "cell_type": "code",
   "execution_count": 41,
   "id": "34574b97-029d-4470-a4e9-7b101b2fc42a",
   "metadata": {},
   "outputs": [],
   "source": [
    "def screening_level_1(data, measure_name):\n",
    "    measure = {}\n",
    "\n",
    "    for stock in stocks:\n",
    "        stock_measure = data[stock].mean()[measure_name]\n",
    "        measure[stock] = stock_measure / np.sqrt(252)\n",
    "\n",
    "    measure_vals = list(measure.values())\n",
    "    measure_vals = [x for x in measure_vals if not np.isnan(x)]\n",
    "    quartiles = {\n",
    "        'Q' : [1, 2, 3, 4],\n",
    "        'Measure' : [np.quantile(measure_vals, x) for x in [0.25, 0.5, 0.75, 1.0]]\n",
    "    }\n",
    "\n",
    "    quart = pd.DataFrame(quartiles).set_index('Q')\n",
    "\n",
    "    risk_levels = {}\n",
    "\n",
    "    for stock in stocks:\n",
    "        for i, threshold in enumerate(quart['Measure'], start=1):\n",
    "            if measure[stock] <= threshold:\n",
    "                risk_levels[stock] = i\n",
    "                break\n",
    "        else: risk_levels[stock] = np.nan\n",
    "\n",
    "    return risk_levels"
   ]
  },
  {
   "cell_type": "code",
   "execution_count": 42,
   "id": "709b98df-f9db-43a9-aa7f-155dac166be9",
   "metadata": {},
   "outputs": [],
   "source": [
    "vol_risk = screening_level_1(loaded_data, 'Annualized Vol')"
   ]
  },
  {
   "cell_type": "code",
   "execution_count": 43,
   "id": "cbc562fe-1b86-481a-abaf-0bfae789e88b",
   "metadata": {},
   "outputs": [],
   "source": [
    "vol_weight = 0.5\n",
    "mkt_cap_weight = 0.5\n",
    "\n",
    "weighted_risk = {\n",
    "    key: round(vol_weight * vol_risk[key] + mkt_cap_weight * mkt_caps[key], 1) for key in mkt_caps\n",
    "}"
   ]
  },
  {
   "cell_type": "code",
   "execution_count": 44,
   "id": "3f6cfb07-9276-4ad6-b401-10fb113916ec",
   "metadata": {},
   "outputs": [],
   "source": [
    "risk = {\n",
    "    1: [],\n",
    "    2: [],\n",
    "    3: [],\n",
    "    4: []\n",
    "}\n",
    "\n",
    "for stock in stocks:\n",
    "    if weighted_risk[stock] == 1.0:\n",
    "        risk[1].append(stock)\n",
    "    elif weighted_risk[stock] == 1.5:\n",
    "        risk[2].append(stock)\n",
    "    elif weighted_risk[stock] == 2.0:\n",
    "        risk[3].append(stock)\n",
    "    elif weighted_risk[stock] == 2.5:\n",
    "        risk[4].append(stock)"
   ]
  },
  {
   "cell_type": "code",
   "execution_count": 45,
   "id": "4c49f775-8ae1-4f55-ae91-d9798dd21e74",
   "metadata": {},
   "outputs": [
    {
     "data": {
      "text/plain": [
       "123"
      ]
     },
     "execution_count": 45,
     "metadata": {},
     "output_type": "execute_result"
    }
   ],
   "source": [
    "len(risk[1])"
   ]
  },
  {
   "cell_type": "code",
   "execution_count": 46,
   "id": "66a455ef-90bd-49a2-a4e2-97849cc6ff91",
   "metadata": {},
   "outputs": [
    {
     "data": {
      "text/plain": [
       "116"
      ]
     },
     "execution_count": 46,
     "metadata": {},
     "output_type": "execute_result"
    }
   ],
   "source": [
    "len(risk[2])"
   ]
  },
  {
   "cell_type": "code",
   "execution_count": 47,
   "id": "25040dbc-00f0-421b-8191-0d33e1542842",
   "metadata": {},
   "outputs": [
    {
     "data": {
      "text/plain": [
       "121"
      ]
     },
     "execution_count": 47,
     "metadata": {},
     "output_type": "execute_result"
    }
   ],
   "source": [
    "len(risk[3])"
   ]
  },
  {
   "cell_type": "code",
   "execution_count": 48,
   "id": "4f81d68c-9ecd-4bd2-8723-63c2704736e7",
   "metadata": {},
   "outputs": [
    {
     "data": {
      "text/plain": [
       "128"
      ]
     },
     "execution_count": 48,
     "metadata": {},
     "output_type": "execute_result"
    }
   ],
   "source": [
    "len(risk[4])"
   ]
  },
  {
   "cell_type": "code",
   "execution_count": 75,
   "id": "e387a2b7-1c99-4aeb-99a0-c72363aef6bd",
   "metadata": {},
   "outputs": [],
   "source": [
    "std = {}\n",
    "downside = {}\n",
    "dividend_yield = {}\n",
    "alpha = {}\n",
    "debt_equity = {}\n",
    "eps_growth_vol = {}\n",
    "earnings_price = {}\n",
    "book_val_price = {}\n",
    "roe = {}\n",
    "beta = {}\n",
    "\n",
    "for stock in stocks:\n",
    "    std[stock] = loaded_data[stock].std()['Return']\n",
    "    \n",
    "    downside[stock] = np.sqrt((np.minimum(0, loaded_data[stock]['Return'])**2).mean())\n",
    "    \n",
    "    dividend_yield[stock] = (loaded_data[stock]['Last_Dividend'] / loaded_data[stock]['Adj Close']).mean() * 4\n",
    "    \n",
    "    alpha[stock] = (loaded_data[stock]['Return'] - loaded_data['SPY']['Return']).mean()\n",
    "    \n",
    "    debt_equity[stock] = loaded_data[stock]['Debt_Ratio'].mean()\n",
    "    \n",
    "    g = (loaded_data[stock]['EPS'] - loaded_data[stock]['EPS'].shift(1)) / loaded_data[stock]['EPS'].shift(1)\n",
    "    eps_growth_vol[stock] = np.sqrt(((g - g.mean())**2).mean())\n",
    "    \n",
    "    earnings_price[stock] = (loaded_data[stock]['EPS'] / loaded_data[stock]['Adj Close']).mean()\n",
    "\n",
    "    shares_outstanding = loaded_data[stock]['Market_Cap'] / loaded_data[stock]['Adj Close']\n",
    "    book_val_per_share = loaded_data[stock]['Book_Value'] / shares_outstanding\n",
    "    book_val_price[stock] = (book_val_per_share / loaded_data[stock]['Adj Close']).mean()\n",
    "    \n",
    "    net_income = shares_outstanding * loaded_data[stock]['EPS']\n",
    "    roe[stock] = net_income / loaded_data[stock]['Book_Value']\n",
    "\n",
    "    cov = np.cov(loaded_data[stock]['Return'].dropna(), loaded_data['SPY']['Return'].dropna().tail(len(loaded_data[stock]['Return'].dropna())))\n",
    "    var = loaded_data[stock].var()['Return']\n",
    "    beta[stock] = cov / var"
   ]
  },
  {
   "cell_type": "code",
   "execution_count": null,
   "id": "637a77b5-a99c-4b5f-8884-f9be522c0e39",
   "metadata": {},
   "outputs": [],
   "source": []
  }
 ],
 "metadata": {
  "kernelspec": {
   "display_name": "Python 3 (ipykernel)",
   "language": "python",
   "name": "python3"
  },
  "language_info": {
   "codemirror_mode": {
    "name": "ipython",
    "version": 3
   },
   "file_extension": ".py",
   "mimetype": "text/x-python",
   "name": "python",
   "nbconvert_exporter": "python",
   "pygments_lexer": "ipython3",
   "version": "3.10.13"
  }
 },
 "nbformat": 4,
 "nbformat_minor": 5
}
