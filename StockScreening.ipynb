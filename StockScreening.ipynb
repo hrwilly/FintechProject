{
 "cells": [
  {
   "cell_type": "code",
   "execution_count": 22,
   "id": "a4db7be1-a3b7-43c3-81c6-70899f1aa21c",
   "metadata": {},
   "outputs": [],
   "source": [
    "import pandas as pd\n",
    "import numpy as np"
   ]
  },
  {
   "cell_type": "code",
   "execution_count": 23,
   "id": "6364f021-68c9-4f32-a84a-17bf875c6d60",
   "metadata": {},
   "outputs": [],
   "source": [
    "def fake_data():\n",
    "    n = 100\n",
    "    data = {\n",
    "        \"Date\": pd.date_range(start=\"2024-01-01\", periods=n, freq=\"D\"),  # Date range\n",
    "        \"Adj Close\": np.random.uniform(100, 200, n),  # Random float between 100 and 200\n",
    "        \"Volume\": np.random.uniform(100, 200, n),  \n",
    "        \"Volatility\": np.random.uniform(100, 200, n),  \n",
    "        \"Impact Costs\": np.random.uniform(100, 200, n)\n",
    "    }\n",
    "    \n",
    "    # Create DataFrame\n",
    "    df = pd.DataFrame(data)\n",
    "    return df"
   ]
  },
  {
   "cell_type": "code",
   "execution_count": 36,
   "id": "06eed69e-e460-43d1-9061-a59692b1aa32",
   "metadata": {},
   "outputs": [],
   "source": [
    "import string\n",
    "\n",
    "stocks = list(string.ascii_lowercase)\n",
    "sample_data = {}\n",
    "\n",
    "for stock in stocks:\n",
    "    sample_data[stock] = fake_data()"
   ]
  },
  {
   "cell_type": "code",
   "execution_count": 37,
   "id": "a58b039e-e5d1-4e51-a0e2-4f197d15db80",
   "metadata": {},
   "outputs": [],
   "source": [
    "large_cap = stocks[:6]\n",
    "mid_cap = stocks[6:12]\n",
    "small_cap = stocks[12:]"
   ]
  },
  {
   "cell_type": "code",
   "execution_count": 38,
   "id": "34574b97-029d-4470-a4e9-7b101b2fc42a",
   "metadata": {},
   "outputs": [],
   "source": [
    "def screening_level_1(data, measure_name):\n",
    "    measure = {}\n",
    "\n",
    "    for stock in stocks:\n",
    "        stock_measure = sample_data[stock].mean()[measure_name]\n",
    "        measure[stock] = stock_measure\n",
    "\n",
    "    measure_vals = list(measure.values())\n",
    "    quartiles = {\n",
    "        'Q' : [1, 2, 3],\n",
    "        'Measure' : [np.quantile(measure_vals, x) for x in [0.25, 0.5, 0.75]]\n",
    "    }\n",
    "\n",
    "    quart = pd.DataFrame(quartiles).set_index('Q')\n",
    "\n",
    "    risk_levels = {\n",
    "        1: [],\n",
    "        2: [],\n",
    "        3: [],\n",
    "        4: []\n",
    "    }\n",
    "\n",
    "    for stock in stocks:\n",
    "        for i, threshold in enumerate(quart['Measure'], start=1):\n",
    "            if measure[stock] <= threshold:\n",
    "                risk_levels[i].append(stock)\n",
    "                break\n",
    "        else:\n",
    "            risk_levels[4].append(stock)\n",
    "\n",
    "    return risk_levels"
   ]
  },
  {
   "cell_type": "code",
   "execution_count": 39,
   "id": "709b98df-f9db-43a9-aa7f-155dac166be9",
   "metadata": {},
   "outputs": [],
   "source": [
    "vol_risk = screening_level_1(sample_data, 'Volatility')\n",
    "ic_risk = screening_level_1(sample_data, 'Impact Costs')"
   ]
  },
  {
   "cell_type": "code",
   "execution_count": 40,
   "id": "f3de9227-38da-4b75-87d1-e47d69f7fc36",
   "metadata": {},
   "outputs": [],
   "source": [
    "risk = {\n",
    "    1: [],\n",
    "    2: [],\n",
    "    3: [],\n",
    "    4: []\n",
    "}\n",
    "\n",
    "cap = {\n",
    "    1: large_cap,\n",
    "    2: mid_cap,\n",
    "    3: small_cap,\n",
    "    4: small_cap\n",
    "}\n",
    "\n",
    "for stock in stocks:\n",
    "    for i in risk.keys():\n",
    "        if (stock in cap[i]) and (stock in vol_risk[i]) and (stock in ic_risk[i]):\n",
    "            risk[i].append(stock)\n",
    "            break"
   ]
  },
  {
   "cell_type": "code",
   "execution_count": 41,
   "id": "cfcddd33-852e-4638-8de9-3389f8c1496e",
   "metadata": {},
   "outputs": [
    {
     "data": {
      "text/plain": [
       "{1: [], 2: ['j'], 3: ['x', 'y'], 4: ['u']}"
      ]
     },
     "execution_count": 41,
     "metadata": {},
     "output_type": "execute_result"
    }
   ],
   "source": [
    "risk"
   ]
  },
  {
   "cell_type": "code",
   "execution_count": null,
   "id": "66a455ef-90bd-49a2-a4e2-97849cc6ff91",
   "metadata": {},
   "outputs": [],
   "source": []
  }
 ],
 "metadata": {
  "kernelspec": {
   "display_name": "Python 3 (ipykernel)",
   "language": "python",
   "name": "python3"
  },
  "language_info": {
   "codemirror_mode": {
    "name": "ipython",
    "version": 3
   },
   "file_extension": ".py",
   "mimetype": "text/x-python",
   "name": "python",
   "nbconvert_exporter": "python",
   "pygments_lexer": "ipython3",
   "version": "3.10.13"
  }
 },
 "nbformat": 4,
 "nbformat_minor": 5
}
